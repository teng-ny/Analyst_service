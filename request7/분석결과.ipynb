{
 "cells": [
  {
   "cell_type": "markdown",
   "id": "9930dd76",
   "metadata": {},
   "source": [
    "## 💻 과제\n",
    "데이터 전처리 작업을 수행하고 기술통계, 상관관계 분석, 시각화 방법을 통해 데이터에 담겨있는 유의미한 패턴을 발견하여 보고서 제출 (분량 최대 pdf10장)"
   ]
  },
  {
   "cell_type": "markdown",
   "id": "545e5f7e",
   "metadata": {},
   "source": [
    "### 파일 불러오기"
   ]
  },
  {
   "cell_type": "code",
   "execution_count": 1,
   "id": "7aa4ed8a",
   "metadata": {},
   "outputs": [],
   "source": [
    "import pandas as pd\n",
    "import numpy as np\n",
    "data=pd.read_excel(\"data.xls\")"
   ]
  },
  {
   "cell_type": "markdown",
   "id": "52ab6742",
   "metadata": {},
   "source": [
    "### 1) EDA  \n",
    "간단하게 데이터의 전체적인 구조와 관계를 파악하였습니다."
   ]
  },
  {
   "cell_type": "code",
   "execution_count": 2,
   "id": "17d43501",
   "metadata": {},
   "outputs": [
    {
     "name": "stdout",
     "output_type": "stream",
     "text": [
      "4669\n",
      "<class 'pandas.core.frame.DataFrame'>\n",
      "RangeIndex: 4669 entries, 0 to 4668\n",
      "Data columns (total 9 columns):\n",
      " #   Column          Non-Null Count  Dtype \n",
      "---  ------          --------------  ----- \n",
      " 0   ID_USER         4669 non-null   int64 \n",
      " 1   USER_STATE      4669 non-null   object\n",
      " 2   USER_TIMEZONE   4669 non-null   object\n",
      " 3   ID_HOTEL        4669 non-null   int64 \n",
      " 4   HOTEL_CITY      4669 non-null   object\n",
      " 5   HOTEL_STATE     4669 non-null   object\n",
      " 6   HOTEL_TIMEZONE  4669 non-null   object\n",
      " 7   Trip Type       4669 non-null   int64 \n",
      " 8   Rating          4669 non-null   int64 \n",
      "dtypes: int64(4), object(5)\n",
      "memory usage: 328.4+ KB\n",
      "None\n"
     ]
    }
   ],
   "source": [
    "# 데이터 개수 확인\n",
    "print(len(data))\n",
    "\n",
    "# 데이터프레임 정보 출력\n",
    "print(data.info())"
   ]
  },
  {
   "cell_type": "markdown",
   "id": "7ca2f534",
   "metadata": {},
   "source": [
    "주어진 데이터는 4,669개의 고객의 호텔 평가점수 데이터를 담고 있는 데이터이며 .info()를 통해 데이터프레임 정보를 출력해본 결과, 9개의 컬럼으로 구성되어 있음을 확인하였습니다.  \n",
    "\n",
    "각각 컬럼의 특징을 상세하게 정의하면 다음과 같습니다.  \n",
    "1. ID_USER (데이터타입 : int) : user_id  \n",
    "2. USER_STATE (데이터타입 : object) : user가 있는 주 이름  \n",
    "3. USER_TIMEZONE (데이터타입 : object) : user가 있는 곳의 timezone  \n",
    "4. ID_HOTEL (데이터타입 : int) : hotel_id  \n",
    "5. HOTEL_CITY (데이터타입 : object) : hotel이 있는 도시 이름  \n",
    "6. HOTEL_STATE (데이터타입 : object) : hotel이 있는 주 이름  \n",
    "7. HOTEL_TIMEZONE (데이터타입 : object) : hotel이 있는 곳의 timezone  \n",
    "8. Trip Type (데이터타입 : int) : 여행 유형  \n",
    "9. Rating (데이터타입 : int) : 평가 점수  "
   ]
  },
  {
   "cell_type": "code",
   "execution_count": 3,
   "id": "dcb5281b",
   "metadata": {},
   "outputs": [
    {
     "data": {
      "text/plain": [
       "1202"
      ]
     },
     "execution_count": 3,
     "metadata": {},
     "output_type": "execute_result"
    }
   ],
   "source": [
    "#user_id의 유니크값 count\n",
    "data.ID_USER.nunique()"
   ]
  },
  {
   "cell_type": "markdown",
   "id": "0e0fe78c",
   "metadata": {},
   "source": [
    "4,669개의 데이터 중에서 평가를 남긴 user_id의 수는 1,202명이었습니다. 한명의 고객이 여러 호텔에 점수를 부여했음을 알 수 있었습니다."
   ]
  },
  {
   "cell_type": "markdown",
   "id": "876bb0f1",
   "metadata": {},
   "source": [
    "### 결측치 확인"
   ]
  },
  {
   "cell_type": "code",
   "execution_count": 4,
   "id": "a1fd73b3",
   "metadata": {},
   "outputs": [
    {
     "data": {
      "text/plain": [
       "ID_USER           0\n",
       "USER_STATE        0\n",
       "USER_TIMEZONE     0\n",
       "ID_HOTEL          0\n",
       "HOTEL_CITY        0\n",
       "HOTEL_STATE       0\n",
       "HOTEL_TIMEZONE    0\n",
       "Trip Type         0\n",
       "Rating            0\n",
       "dtype: int64"
      ]
     },
     "execution_count": 4,
     "metadata": {},
     "output_type": "execute_result"
    }
   ],
   "source": [
    "data.isna().sum()"
   ]
  },
  {
   "cell_type": "markdown",
   "id": "b6887ab2",
   "metadata": {},
   "source": [
    "isna()함수로 데이터의 결측치를 확인해보았습니다.  \n",
    "결측치는 모든 컬럼에서 없었고 데이터에서 행 삭제를 따로 진행하지 않고 분석을 진행하였습니다."
   ]
  },
  {
   "cell_type": "code",
   "execution_count": 5,
   "id": "015d6290",
   "metadata": {},
   "outputs": [
    {
     "name": "stdout",
     "output_type": "stream",
     "text": [
      "호텔 개수 : 1890\n",
      "주 개수 : 27\n",
      "도시 개수 : 48\n"
     ]
    }
   ],
   "source": [
    "#각 컬럼별 unique값 확인\n",
    "print(\"호텔 개수 :\", data.ID_HOTEL.nunique())\n",
    "print(\"주 개수 :\", data.HOTEL_STATE.nunique())\n",
    "print(\"도시 개수 :\", data.HOTEL_CITY.nunique())"
   ]
  },
  {
   "cell_type": "markdown",
   "id": "74121f8c",
   "metadata": {},
   "source": [
    "Rating 평가 점수를 부여받은 호텔의 개수는 1890개입니다.  \n",
    "이 호텔들은 27개 주의 48개 도시에 있는 호텔임을 확인할 수 있었습니다."
   ]
  },
  {
   "cell_type": "markdown",
   "id": "d22ba0ce",
   "metadata": {},
   "source": [
    "### 1-1) 상관관계 분석"
   ]
  },
  {
   "cell_type": "code",
   "execution_count": 6,
   "id": "9a44cb79",
   "metadata": {},
   "outputs": [
    {
     "data": {
      "text/plain": [
       "<AxesSubplot:>"
      ]
     },
     "execution_count": 6,
     "metadata": {},
     "output_type": "execute_result"
    },
    {
     "data": {
      "image/png": "[encoded data removed]",
      "text/plain": [
       "<Figure size 432x288 with 2 Axes>"
      ]
     },
     "metadata": {
      "needs_background": "light"
     },
     "output_type": "display_data"
    }
   ],
   "source": [
    "#상관관계 분석\n",
    "import seaborn as sns\n",
    "\n",
    "df_cor=data.corr(method='pearson')\n",
    "sns.heatmap(df_cor, annot=True, fmt='.1f')"
   ]
  },
  {
   "cell_type": "markdown",
   "id": "cf0c6d0d",
   "metadata": {},
   "source": [
    "상관관계분석을 해보았으나 'ID_USER'은 의미있는 숫자가 아닌 부여된 user_id라는 점, 'ID_HOTEL' 역시 hotel에 부여된 id라는 점, Trip Type은 수치형으로 해석할 것이 아닌 실제로는 범주형(명목형) 변수라는 점을 고려할 때 상관관계 분석에서 추가적으로 의미를 도출할 수 있지는 않았습니다."
   ]
  },
  {
   "cell_type": "markdown",
   "id": "70900eeb",
   "metadata": {},
   "source": [
    "### 1-2) Rating(평가 점수) 컬럼 분석"
   ]
  },
  {
   "cell_type": "code",
   "execution_count": 7,
   "id": "31f02cb2",
   "metadata": {},
   "outputs": [
    {
     "name": "stdout",
     "output_type": "stream",
     "text": [
      "평균 : 3.633\n",
      "중앙값 : 4.0\n"
     ]
    }
   ],
   "source": [
    "# 평가점수 Rating 컬럼 평균\n",
    "print(\"평균 :\", round(data['Rating'].mean(), 3))\n",
    "print(\"중앙값 :\", data['Rating'].median())"
   ]
  },
  {
   "cell_type": "markdown",
   "id": "4f4935a0",
   "metadata": {},
   "source": [
    "Rating의 평균은 3.633, 중앙값은 4.0이었습니다. 중앙값이 평균보다 크기때문에 히스토그램이 왼쪽으로 늘어진 형태로 그려질 것으로 예상됩니다."
   ]
  },
  {
   "cell_type": "code",
   "execution_count": 8,
   "id": "f8eb6c3d",
   "metadata": {},
   "outputs": [
    {
     "data": {
      "text/plain": [
       "<BarContainer object of 5 artists>"
      ]
     },
     "execution_count": 8,
     "metadata": {},
     "output_type": "execute_result"
    },
    {
     "data": {
      "image/png": "[encoded data removed]",
      "text/plain": [
       "<Figure size 432x288 with 1 Axes>"
      ]
     },
     "metadata": {
      "needs_background": "light"
     },
     "output_type": "display_data"
    }
   ],
   "source": [
    "# 평가점수 Rating 시각화\n",
    "# 패키지 임포트\n",
    "import matplotlib.pyplot as plt\n",
    "\n",
    "#막대그래프\n",
    "plt.bar(data['Rating'].value_counts().index, data['Rating'].value_counts().values)"
   ]
  },
  {
   "cell_type": "markdown",
   "id": "730e30a7",
   "metadata": {},
   "source": [
    "고객이 평가한 점수 분포를 확인해보고자 Rating 컬럼의 값들을 막대그래프로 시각화해보았습니다.  \n",
    "  \n",
    "예상대로 히스토그램이 왼쪽으로 늘어진 형태로 나타났습니다. 4점에 가장 많이 분포를 하고 있으며 불만족에 가까운 1,2점의 리뷰를 남긴 고객도 있었습니다.  \n",
    "-> 그래프가 아닌 count값으로 자세히 확인해보았습니다."
   ]
  },
  {
   "cell_type": "code",
   "execution_count": 9,
   "id": "04b21ac7",
   "metadata": {},
   "outputs": [
    {
     "data": {
      "text/html": [
       "<div>\n",
       "<style scoped>\n",
       "    .dataframe tbody tr th:only-of-type {\n",
       "        vertical-align: middle;\n",
       "    }\n",
       "\n",
       "    .dataframe tbody tr th {\n",
       "        vertical-align: top;\n",
       "    }\n",
       "\n",
       "    .dataframe thead th {\n",
       "        text-align: right;\n",
       "    }\n",
       "</style>\n",
       "<table border=\"1\" class=\"dataframe\">\n",
       "  <thead>\n",
       "    <tr style=\"text-align: right;\">\n",
       "      <th></th>\n",
       "      <th>Rating</th>\n",
       "      <th>%</th>\n",
       "    </tr>\n",
       "  </thead>\n",
       "  <tbody>\n",
       "    <tr>\n",
       "      <th>4</th>\n",
       "      <td>1771</td>\n",
       "      <td>37.93</td>\n",
       "    </tr>\n",
       "    <tr>\n",
       "      <th>3</th>\n",
       "      <td>1163</td>\n",
       "      <td>24.91</td>\n",
       "    </tr>\n",
       "    <tr>\n",
       "      <th>5</th>\n",
       "      <td>1046</td>\n",
       "      <td>22.40</td>\n",
       "    </tr>\n",
       "    <tr>\n",
       "      <th>2</th>\n",
       "      <td>470</td>\n",
       "      <td>10.07</td>\n",
       "    </tr>\n",
       "    <tr>\n",
       "      <th>1</th>\n",
       "      <td>219</td>\n",
       "      <td>4.69</td>\n",
       "    </tr>\n",
       "  </tbody>\n",
       "</table>\n",
       "</div>"
      ],
      "text/plain": [
       "   Rating      %\n",
       "4    1771  37.93\n",
       "3    1163  24.91\n",
       "5    1046  22.40\n",
       "2     470  10.07\n",
       "1     219   4.69"
      ]
     },
     "execution_count": 9,
     "metadata": {},
     "output_type": "execute_result"
    }
   ],
   "source": [
    "#Rating 컬럼의 각 값을 count해줌\n",
    "count=pd.DataFrame(data.Rating.value_counts())\n",
    "\n",
    "#%로 계산\n",
    "count[\"%\"]=round(count['Rating']/sum(count.Rating)*100, 2)\n",
    "\n",
    "#print\n",
    "count"
   ]
  },
  {
   "cell_type": "markdown",
   "id": "ab53c075",
   "metadata": {},
   "source": [
    "5점을 남긴 고객보다 3-4점을 부여한 고객이 더 많았습니다."
   ]
  },
  {
   "cell_type": "markdown",
   "id": "522e993c",
   "metadata": {},
   "source": [
    "### 1-3) Trip Type(여행 유형) 컬럼 분석"
   ]
  },
  {
   "cell_type": "code",
   "execution_count": 10,
   "id": "1b6e0463",
   "metadata": {},
   "outputs": [
    {
     "data": {
      "text/plain": [
       "<BarContainer object of 5 artists>"
      ]
     },
     "execution_count": 10,
     "metadata": {},
     "output_type": "execute_result"
    },
    {
     "data": {
      "image/png": "[encoded data removed]",
      "text/plain": [
       "<Figure size 432x288 with 1 Axes>"
      ]
     },
     "metadata": {
      "needs_background": "light"
     },
     "output_type": "display_data"
    }
   ],
   "source": [
    "#여행 유형 Trip Type 시각화\n",
    "#1:Family, 2:couples, 3:Busienss, 4:Solo, 5:Friends\n",
    "\n",
    "#가장 높은 순서 3->2->1->4->5\n",
    "#Bussiness->Couples->Family->Solo->Friends 순서로 인덱스\n",
    "\n",
    "#막대그래프\n",
    "plt.bar(['Business', 'Couples', 'Family', 'Solo', 'Friends'], data['Trip Type'].value_counts().values)"
   ]
  },
  {
   "cell_type": "markdown",
   "id": "9dbd478e",
   "metadata": {},
   "source": [
    "여행의 유형은 Business 목적의 여행유형이 가장 많았고 Couple, Family 순으로 이어졌습니다. 친구와 함께 여행을 오는 목적의 리뷰가 가장 적은 것을 확인할 수 있었습니다."
   ]
  },
  {
   "cell_type": "markdown",
   "id": "8712b700",
   "metadata": {},
   "source": [
    "### 1-4) HOTEL_STATE(hter이 있는 주이름) 컬럼 분석"
   ]
  },
  {
   "cell_type": "code",
   "execution_count": 11,
   "id": "c0989aca",
   "metadata": {},
   "outputs": [
    {
     "data": {
      "text/html": [
       "<div>\n",
       "<style scoped>\n",
       "    .dataframe tbody tr th:only-of-type {\n",
       "        vertical-align: middle;\n",
       "    }\n",
       "\n",
       "    .dataframe tbody tr th {\n",
       "        vertical-align: top;\n",
       "    }\n",
       "\n",
       "    .dataframe thead th {\n",
       "        text-align: right;\n",
       "    }\n",
       "</style>\n",
       "<table border=\"1\" class=\"dataframe\">\n",
       "  <thead>\n",
       "    <tr style=\"text-align: right;\">\n",
       "      <th></th>\n",
       "      <th>count</th>\n",
       "      <th>%</th>\n",
       "    </tr>\n",
       "  </thead>\n",
       "  <tbody>\n",
       "    <tr>\n",
       "      <th>TX</th>\n",
       "      <td>1171</td>\n",
       "      <td>25.08</td>\n",
       "    </tr>\n",
       "    <tr>\n",
       "      <th>CA</th>\n",
       "      <td>522</td>\n",
       "      <td>11.18</td>\n",
       "    </tr>\n",
       "    <tr>\n",
       "      <th>AZ</th>\n",
       "      <td>369</td>\n",
       "      <td>7.90</td>\n",
       "    </tr>\n",
       "    <tr>\n",
       "      <th>OK</th>\n",
       "      <td>291</td>\n",
       "      <td>6.23</td>\n",
       "    </tr>\n",
       "    <tr>\n",
       "      <th>NC</th>\n",
       "      <td>235</td>\n",
       "      <td>5.03</td>\n",
       "    </tr>\n",
       "    <tr>\n",
       "      <th>TN</th>\n",
       "      <td>229</td>\n",
       "      <td>4.90</td>\n",
       "    </tr>\n",
       "    <tr>\n",
       "      <th>OH</th>\n",
       "      <td>220</td>\n",
       "      <td>4.71</td>\n",
       "    </tr>\n",
       "    <tr>\n",
       "      <th>NM</th>\n",
       "      <td>211</td>\n",
       "      <td>4.52</td>\n",
       "    </tr>\n",
       "    <tr>\n",
       "      <th>IN</th>\n",
       "      <td>187</td>\n",
       "      <td>4.01</td>\n",
       "    </tr>\n",
       "    <tr>\n",
       "      <th>GA</th>\n",
       "      <td>164</td>\n",
       "      <td>3.51</td>\n",
       "    </tr>\n",
       "    <tr>\n",
       "      <th>FL</th>\n",
       "      <td>137</td>\n",
       "      <td>2.93</td>\n",
       "    </tr>\n",
       "    <tr>\n",
       "      <th>KS</th>\n",
       "      <td>129</td>\n",
       "      <td>2.76</td>\n",
       "    </tr>\n",
       "    <tr>\n",
       "      <th>KY</th>\n",
       "      <td>123</td>\n",
       "      <td>2.63</td>\n",
       "    </tr>\n",
       "    <tr>\n",
       "      <th>CO</th>\n",
       "      <td>103</td>\n",
       "      <td>2.21</td>\n",
       "    </tr>\n",
       "    <tr>\n",
       "      <th>NV</th>\n",
       "      <td>89</td>\n",
       "      <td>1.91</td>\n",
       "    </tr>\n",
       "    <tr>\n",
       "      <th>OR</th>\n",
       "      <td>87</td>\n",
       "      <td>1.86</td>\n",
       "    </tr>\n",
       "    <tr>\n",
       "      <th>NE</th>\n",
       "      <td>85</td>\n",
       "      <td>1.82</td>\n",
       "    </tr>\n",
       "    <tr>\n",
       "      <th>WI</th>\n",
       "      <td>69</td>\n",
       "      <td>1.48</td>\n",
       "    </tr>\n",
       "    <tr>\n",
       "      <th>WA</th>\n",
       "      <td>60</td>\n",
       "      <td>1.29</td>\n",
       "    </tr>\n",
       "    <tr>\n",
       "      <th>MI</th>\n",
       "      <td>51</td>\n",
       "      <td>1.09</td>\n",
       "    </tr>\n",
       "    <tr>\n",
       "      <th>MN</th>\n",
       "      <td>42</td>\n",
       "      <td>0.90</td>\n",
       "    </tr>\n",
       "    <tr>\n",
       "      <th>VA</th>\n",
       "      <td>27</td>\n",
       "      <td>0.58</td>\n",
       "    </tr>\n",
       "    <tr>\n",
       "      <th>MD</th>\n",
       "      <td>22</td>\n",
       "      <td>0.47</td>\n",
       "    </tr>\n",
       "    <tr>\n",
       "      <th>IL</th>\n",
       "      <td>14</td>\n",
       "      <td>0.30</td>\n",
       "    </tr>\n",
       "    <tr>\n",
       "      <th>NY</th>\n",
       "      <td>12</td>\n",
       "      <td>0.26</td>\n",
       "    </tr>\n",
       "    <tr>\n",
       "      <th>PA</th>\n",
       "      <td>11</td>\n",
       "      <td>0.24</td>\n",
       "    </tr>\n",
       "    <tr>\n",
       "      <th>MA</th>\n",
       "      <td>9</td>\n",
       "      <td>0.19</td>\n",
       "    </tr>\n",
       "  </tbody>\n",
       "</table>\n",
       "</div>"
      ],
      "text/plain": [
       "    count      %\n",
       "TX   1171  25.08\n",
       "CA    522  11.18\n",
       "AZ    369   7.90\n",
       "OK    291   6.23\n",
       "NC    235   5.03\n",
       "TN    229   4.90\n",
       "OH    220   4.71\n",
       "NM    211   4.52\n",
       "IN    187   4.01\n",
       "GA    164   3.51\n",
       "FL    137   2.93\n",
       "KS    129   2.76\n",
       "KY    123   2.63\n",
       "CO    103   2.21\n",
       "NV     89   1.91\n",
       "OR     87   1.86\n",
       "NE     85   1.82\n",
       "WI     69   1.48\n",
       "WA     60   1.29\n",
       "MI     51   1.09\n",
       "MN     42   0.90\n",
       "VA     27   0.58\n",
       "MD     22   0.47\n",
       "IL     14   0.30\n",
       "NY     12   0.26\n",
       "PA     11   0.24\n",
       "MA      9   0.19"
      ]
     },
     "execution_count": 11,
     "metadata": {},
     "output_type": "execute_result"
    }
   ],
   "source": [
    "# HOTEL_STATE 호텔이 있는 주 파악\n",
    "state_cnt=pd.DataFrame(data.HOTEL_STATE.value_counts())\n",
    "state_cnt.columns=[\"count\"]\n",
    "\n",
    "#%로 계산\n",
    "state_cnt[\"%\"]=round(state_cnt['count']/state_cnt['count'].sum()*100, 2)\n",
    "\n",
    "#print\n",
    "state_cnt"
   ]
  },
  {
   "cell_type": "markdown",
   "id": "07c06416",
   "metadata": {},
   "source": [
    "고객이 평점을 남긴 호텔의 주를 분석해보니 TX(텍사스주)가 25.08%로 가장 많았고 CA(캘리포니아주)가 11.18%, AZ(애리조나주) 7.9% 순서였습니다.   \n",
    "MA(매사추세츠)주는 평가 건수가 9건으로 전체 행수중 가작 적은 0.19% 비율을 차지하고 있음을 확인할 수 있었습니다. 모든 주에서 많은 평가를 남긴 것은 아닌 것으로 보입니다."
   ]
  },
  {
   "cell_type": "markdown",
   "id": "54e3b2fc",
   "metadata": {},
   "source": [
    "### 1-5) 유저별 호텔 평가 개수 확인"
   ]
  },
  {
   "cell_type": "code",
   "execution_count": 12,
   "id": "fdc3ddf8",
   "metadata": {},
   "outputs": [
    {
     "data": {
      "text/html": [
       "<div>\n",
       "<style scoped>\n",
       "    .dataframe tbody tr th:only-of-type {\n",
       "        vertical-align: middle;\n",
       "    }\n",
       "\n",
       "    .dataframe tbody tr th {\n",
       "        vertical-align: top;\n",
       "    }\n",
       "\n",
       "    .dataframe thead th {\n",
       "        text-align: right;\n",
       "    }\n",
       "</style>\n",
       "<table border=\"1\" class=\"dataframe\">\n",
       "  <thead>\n",
       "    <tr style=\"text-align: right;\">\n",
       "      <th></th>\n",
       "      <th>count</th>\n",
       "    </tr>\n",
       "    <tr>\n",
       "      <th>ID_USER</th>\n",
       "      <th></th>\n",
       "    </tr>\n",
       "  </thead>\n",
       "  <tbody>\n",
       "    <tr>\n",
       "      <th>27783</th>\n",
       "      <td>19</td>\n",
       "    </tr>\n",
       "    <tr>\n",
       "      <th>13087</th>\n",
       "      <td>16</td>\n",
       "    </tr>\n",
       "    <tr>\n",
       "      <th>40423</th>\n",
       "      <td>16</td>\n",
       "    </tr>\n",
       "    <tr>\n",
       "      <th>17535</th>\n",
       "      <td>12</td>\n",
       "    </tr>\n",
       "    <tr>\n",
       "      <th>49098</th>\n",
       "      <td>12</td>\n",
       "    </tr>\n",
       "    <tr>\n",
       "      <th>...</th>\n",
       "      <td>...</td>\n",
       "    </tr>\n",
       "    <tr>\n",
       "      <th>14560</th>\n",
       "      <td>3</td>\n",
       "    </tr>\n",
       "    <tr>\n",
       "      <th>37852</th>\n",
       "      <td>3</td>\n",
       "    </tr>\n",
       "    <tr>\n",
       "      <th>37862</th>\n",
       "      <td>3</td>\n",
       "    </tr>\n",
       "    <tr>\n",
       "      <th>37966</th>\n",
       "      <td>3</td>\n",
       "    </tr>\n",
       "    <tr>\n",
       "      <th>33124</th>\n",
       "      <td>3</td>\n",
       "    </tr>\n",
       "  </tbody>\n",
       "</table>\n",
       "<p>1202 rows × 1 columns</p>\n",
       "</div>"
      ],
      "text/plain": [
       "         count\n",
       "ID_USER       \n",
       "27783       19\n",
       "13087       16\n",
       "40423       16\n",
       "17535       12\n",
       "49098       12\n",
       "...        ...\n",
       "14560        3\n",
       "37852        3\n",
       "37862        3\n",
       "37966        3\n",
       "33124        3\n",
       "\n",
       "[1202 rows x 1 columns]"
      ]
     },
     "execution_count": 12,
     "metadata": {},
     "output_type": "execute_result"
    }
   ],
   "source": [
    "#계산방법 : data.groupby(\"ID_USER\").count()['ID_HOTEL']\n",
    "#-> ID_USER 별로 group을 나눈 후 각 행개수를 count 해주었습니다.\n",
    "\n",
    "count=pd.DataFrame(data.groupby(\"ID_USER\").count()['ID_HOTEL'])\n",
    "\n",
    "#컬럼의 의미가 달라 컬럼명을 변경해주었습니다. (ID_HOTEL->count)\n",
    "count.columns=['count']\n",
    "\n",
    "#print\n",
    "count.sort_values(by='count', ascending=False)\n",
    "# sort_values(by='컬럼명') : 정렬\n",
    "# 옵션 : ascending=False -> 내림차순 정렬"
   ]
  },
  {
   "cell_type": "markdown",
   "id": "9a851055",
   "metadata": {},
   "source": [
    "1202명의 유저가 남긴 평가의 개수를 count해보았습니다. 내림차순 정렬을 해보았을 때 호텔 평가를 3개만 남긴 유저부터 19개를 남긴 유저까지 다양하게 분포하고 있음을 확인할 수 있었습니다."
   ]
  },
  {
   "cell_type": "markdown",
   "id": "9f2d093a",
   "metadata": {},
   "source": [
    "### 1-6) 지역별 호텔 평가 비교  \n",
    "각 주의 호텔 평가 점수를 비교하여, 어느 주의 호텔이 가장 좋은 평가를 받았는지 확인"
   ]
  },
  {
   "cell_type": "code",
   "execution_count": 13,
   "id": "3ef795af",
   "metadata": {},
   "outputs": [
    {
     "data": {
      "text/html": [
       "<div>\n",
       "<style scoped>\n",
       "    .dataframe tbody tr th:only-of-type {\n",
       "        vertical-align: middle;\n",
       "    }\n",
       "\n",
       "    .dataframe tbody tr th {\n",
       "        vertical-align: top;\n",
       "    }\n",
       "\n",
       "    .dataframe thead th {\n",
       "        text-align: right;\n",
       "    }\n",
       "</style>\n",
       "<table border=\"1\" class=\"dataframe\">\n",
       "  <thead>\n",
       "    <tr style=\"text-align: right;\">\n",
       "      <th></th>\n",
       "      <th>Rating</th>\n",
       "    </tr>\n",
       "    <tr>\n",
       "      <th>HOTEL_STATE</th>\n",
       "      <th></th>\n",
       "    </tr>\n",
       "  </thead>\n",
       "  <tbody>\n",
       "    <tr>\n",
       "      <th>MA</th>\n",
       "      <td>4.555556</td>\n",
       "    </tr>\n",
       "    <tr>\n",
       "      <th>NY</th>\n",
       "      <td>4.333333</td>\n",
       "    </tr>\n",
       "    <tr>\n",
       "      <th>FL</th>\n",
       "      <td>3.817518</td>\n",
       "    </tr>\n",
       "    <tr>\n",
       "      <th>MI</th>\n",
       "      <td>3.764706</td>\n",
       "    </tr>\n",
       "    <tr>\n",
       "      <th>NE</th>\n",
       "      <td>3.764706</td>\n",
       "    </tr>\n",
       "    <tr>\n",
       "      <th>OK</th>\n",
       "      <td>3.759450</td>\n",
       "    </tr>\n",
       "    <tr>\n",
       "      <th>IN</th>\n",
       "      <td>3.705882</td>\n",
       "    </tr>\n",
       "    <tr>\n",
       "      <th>KS</th>\n",
       "      <td>3.705426</td>\n",
       "    </tr>\n",
       "    <tr>\n",
       "      <th>NV</th>\n",
       "      <td>3.696629</td>\n",
       "    </tr>\n",
       "    <tr>\n",
       "      <th>MN</th>\n",
       "      <td>3.690476</td>\n",
       "    </tr>\n",
       "  </tbody>\n",
       "</table>\n",
       "</div>"
      ],
      "text/plain": [
       "               Rating\n",
       "HOTEL_STATE          \n",
       "MA           4.555556\n",
       "NY           4.333333\n",
       "FL           3.817518\n",
       "MI           3.764706\n",
       "NE           3.764706\n",
       "OK           3.759450\n",
       "IN           3.705882\n",
       "KS           3.705426\n",
       "NV           3.696629\n",
       "MN           3.690476"
      ]
     },
     "execution_count": 13,
     "metadata": {},
     "output_type": "execute_result"
    }
   ],
   "source": [
    "#주별, 호텔 평균 평점 계산\n",
    "state_avg=pd.DataFrame(data.groupby('HOTEL_STATE').mean()['Rating'])\n",
    "\n",
    "#내림차순 정렬\n",
    "state_avg=state_avg.sort_values(by='Rating', ascending=False)\n",
    "\n",
    "#좋은 평가를 받은 상위 10개주 추출\n",
    "state_avg=state_avg.head(10)\n",
    "state_avg"
   ]
  },
  {
   "cell_type": "markdown",
   "id": "83450076",
   "metadata": {},
   "source": [
    "좋은 평가를 받은 상위 10개주를 추출했을 때, MA(매샤추세츠), NY(뉴욕), FL(플로리다) 순서로 좋은 평가를 받을 것을 확인할 수 있었습니다.  \n",
    "  \n",
    "MA주의 호텔이 좋은 평가를 받긴 했지만, 전체 데이터 중 MA주의 호텔의 평가 건수는 가장 적은 9건이였으므로 건수가 작아서 점수가 상대적으로 높게 평가된 것으로 생각됩니다.  \n",
    "   \n",
    "-> 점수의 차이를 한눈에 확인하기 위해 위의 표를 시각화해보았습니다."
   ]
  },
  {
   "cell_type": "code",
   "execution_count": 14,
   "id": "e983cb9d",
   "metadata": {},
   "outputs": [
    {
     "data": {
      "text/plain": [
       "<BarContainer object of 10 artists>"
      ]
     },
     "execution_count": 14,
     "metadata": {},
     "output_type": "execute_result"
    },
    {
     "data": {
      "image/png": "[encoded data removed]",
      "text/plain": [
       "<Figure size 432x288 with 1 Axes>"
      ]
     },
     "metadata": {
      "needs_background": "light"
     },
     "output_type": "display_data"
    }
   ],
   "source": [
    "#막대그래프\n",
    "plt.bar(state_avg['Rating'].index, state_avg['Rating'].values)"
   ]
  },
  {
   "cell_type": "markdown",
   "id": "f4b42762",
   "metadata": {},
   "source": [
    "시각화 결과, MA(메샤추세츠) 주의 평균 평점이 다른주와 비교하였을때 상대적으로 높은 양상을 보임을 한눈에 확인할 수 있었습니다. "
   ]
  },
  {
   "cell_type": "markdown",
   "id": "32c59530",
   "metadata": {},
   "source": [
    "### 1-7) 여행 유형(trip_type)에 따른 호텔 선호도  \n",
    "여행 유형(가족 여행, 출장 등)에 따른 호텔 평가 점수를 비교하여, 어떤 여행 유형의 사용자들이 호텔을 더 선호하는지 확인할 수 있습니다."
   ]
  },
  {
   "cell_type": "code",
   "execution_count": 15,
   "id": "b5f7f367",
   "metadata": {},
   "outputs": [
    {
     "data": {
      "text/html": [
       "<div>\n",
       "<style scoped>\n",
       "    .dataframe tbody tr th:only-of-type {\n",
       "        vertical-align: middle;\n",
       "    }\n",
       "\n",
       "    .dataframe tbody tr th {\n",
       "        vertical-align: top;\n",
       "    }\n",
       "\n",
       "    .dataframe thead th {\n",
       "        text-align: right;\n",
       "    }\n",
       "</style>\n",
       "<table border=\"1\" class=\"dataframe\">\n",
       "  <thead>\n",
       "    <tr style=\"text-align: right;\">\n",
       "      <th></th>\n",
       "      <th>Rating</th>\n",
       "    </tr>\n",
       "    <tr>\n",
       "      <th>type</th>\n",
       "      <th></th>\n",
       "    </tr>\n",
       "  </thead>\n",
       "  <tbody>\n",
       "    <tr>\n",
       "      <th>Couples</th>\n",
       "      <td>3.743284</td>\n",
       "    </tr>\n",
       "    <tr>\n",
       "      <th>Family</th>\n",
       "      <td>3.708171</td>\n",
       "    </tr>\n",
       "    <tr>\n",
       "      <th>Friends</th>\n",
       "      <td>3.607143</td>\n",
       "    </tr>\n",
       "    <tr>\n",
       "      <th>Solo</th>\n",
       "      <td>3.590551</td>\n",
       "    </tr>\n",
       "    <tr>\n",
       "      <th>Business</th>\n",
       "      <td>3.566440</td>\n",
       "    </tr>\n",
       "  </tbody>\n",
       "</table>\n",
       "</div>"
      ],
      "text/plain": [
       "            Rating\n",
       "type              \n",
       "Couples   3.743284\n",
       "Family    3.708171\n",
       "Friends   3.607143\n",
       "Solo      3.590551\n",
       "Business  3.566440"
      ]
     },
     "execution_count": 15,
     "metadata": {},
     "output_type": "execute_result"
    }
   ],
   "source": [
    "#여행 유형별, 호텔 평균 평점 계산\n",
    "type_avg=pd.DataFrame(data.groupby('Trip Type').mean()['Rating'])\n",
    "\n",
    "#내림차순 정렬\n",
    "type_avg=type_avg.sort_values(by='Rating', ascending=False)\n",
    "\n",
    "#trip_type 상세 설명컬럼 추가\n",
    "type_avg['type']=['Couples', 'Family', 'Friends', 'Solo', 'Business']\n",
    "\n",
    "#인덱스를 상세 type컬럼으로 대체해줌\n",
    "type_avg.set_index(\"type\", inplace=True)\n",
    "type_avg"
   ]
  },
  {
   "cell_type": "markdown",
   "id": "f4b9cb70",
   "metadata": {},
   "source": [
    "\"Couples\" 유형의 사용자들이 호텔을 가장 좋게 선호하고 있는 것을 확인할 수 있습니다. \"Family\", \"Friends\"인 경우가 그 다음 순서를 이었습니다."
   ]
  },
  {
   "cell_type": "markdown",
   "id": "42b02a03",
   "metadata": {},
   "source": [
    "### 💡컬럼 전처리 후, 세부 분석 - 유의미한 패턴을 발견  \n",
    "- 세부분석 1) TX(텍사스) 주의 비즈니스 목적으로 여행을할 때, 어떤 호텔을 방문해야할까요?  \n",
    "  \n",
    "고객이 가장 많은 평점을 남긴 주인 TX(텍사스주)를 가지고 상세 분석을 진행해보았습니다."
   ]
  },
  {
   "cell_type": "code",
   "execution_count": 16,
   "id": "4e930a48",
   "metadata": {},
   "outputs": [],
   "source": [
    "#텍사스주 데이터만 따로 저장\n",
    "tx=data[data['HOTEL_STATE']=='TX']\n",
    "\n",
    "#경고코드 발생으로 데이터프레임 copy해줌\n",
    "tx=tx.copy()"
   ]
  },
  {
   "cell_type": "code",
   "execution_count": 17,
   "id": "2eef913f",
   "metadata": {},
   "outputs": [
    {
     "data": {
      "text/html": [
       "<div>\n",
       "<style scoped>\n",
       "    .dataframe tbody tr th:only-of-type {\n",
       "        vertical-align: middle;\n",
       "    }\n",
       "\n",
       "    .dataframe tbody tr th {\n",
       "        vertical-align: top;\n",
       "    }\n",
       "\n",
       "    .dataframe thead th {\n",
       "        text-align: right;\n",
       "    }\n",
       "</style>\n",
       "<table border=\"1\" class=\"dataframe\">\n",
       "  <thead>\n",
       "    <tr style=\"text-align: right;\">\n",
       "      <th></th>\n",
       "      <th>ID_USER</th>\n",
       "      <th>ID_HOTEL</th>\n",
       "      <th>HOTEL_CITY</th>\n",
       "      <th>Trip Type</th>\n",
       "      <th>Rating</th>\n",
       "    </tr>\n",
       "  </thead>\n",
       "  <tbody>\n",
       "    <tr>\n",
       "      <th>1</th>\n",
       "      <td>45</td>\n",
       "      <td>223229</td>\n",
       "      <td>SanAntonio</td>\n",
       "      <td>3</td>\n",
       "      <td>5</td>\n",
       "    </tr>\n",
       "    <tr>\n",
       "      <th>3</th>\n",
       "      <td>45</td>\n",
       "      <td>98827</td>\n",
       "      <td>ELPaso</td>\n",
       "      <td>3</td>\n",
       "      <td>5</td>\n",
       "    </tr>\n",
       "    <tr>\n",
       "      <th>4</th>\n",
       "      <td>45</td>\n",
       "      <td>99518</td>\n",
       "      <td>SanAntonio</td>\n",
       "      <td>3</td>\n",
       "      <td>3</td>\n",
       "    </tr>\n",
       "    <tr>\n",
       "      <th>6</th>\n",
       "      <td>64</td>\n",
       "      <td>1751886</td>\n",
       "      <td>Austin</td>\n",
       "      <td>3</td>\n",
       "      <td>4</td>\n",
       "    </tr>\n",
       "    <tr>\n",
       "      <th>7</th>\n",
       "      <td>64</td>\n",
       "      <td>99120</td>\n",
       "      <td>Houston</td>\n",
       "      <td>3</td>\n",
       "      <td>4</td>\n",
       "    </tr>\n",
       "    <tr>\n",
       "      <th>10</th>\n",
       "      <td>100</td>\n",
       "      <td>109399</td>\n",
       "      <td>Dallas</td>\n",
       "      <td>3</td>\n",
       "      <td>3</td>\n",
       "    </tr>\n",
       "    <tr>\n",
       "      <th>15</th>\n",
       "      <td>159</td>\n",
       "      <td>98815</td>\n",
       "      <td>ELPaso</td>\n",
       "      <td>1</td>\n",
       "      <td>3</td>\n",
       "    </tr>\n",
       "    <tr>\n",
       "      <th>16</th>\n",
       "      <td>159</td>\n",
       "      <td>99055</td>\n",
       "      <td>Houston</td>\n",
       "      <td>2</td>\n",
       "      <td>4</td>\n",
       "    </tr>\n",
       "    <tr>\n",
       "      <th>21</th>\n",
       "      <td>198</td>\n",
       "      <td>240001</td>\n",
       "      <td>ELPaso</td>\n",
       "      <td>3</td>\n",
       "      <td>4</td>\n",
       "    </tr>\n",
       "    <tr>\n",
       "      <th>23</th>\n",
       "      <td>215</td>\n",
       "      <td>109010</td>\n",
       "      <td>Austin</td>\n",
       "      <td>3</td>\n",
       "      <td>4</td>\n",
       "    </tr>\n",
       "  </tbody>\n",
       "</table>\n",
       "</div>"
      ],
      "text/plain": [
       "    ID_USER  ID_HOTEL  HOTEL_CITY  Trip Type  Rating\n",
       "1        45    223229  SanAntonio          3       5\n",
       "3        45     98827      ELPaso          3       5\n",
       "4        45     99518  SanAntonio          3       3\n",
       "6        64   1751886      Austin          3       4\n",
       "7        64     99120     Houston          3       4\n",
       "10      100    109399      Dallas          3       3\n",
       "15      159     98815      ELPaso          1       3\n",
       "16      159     99055     Houston          2       4\n",
       "21      198    240001      ELPaso          3       4\n",
       "23      215    109010      Austin          3       4"
      ]
     },
     "execution_count": 17,
     "metadata": {},
     "output_type": "execute_result"
    }
   ],
   "source": [
    "# 전처리) USER_STATE, USER_TIMEZONE, HOTEL_TIMEZONE은 분석에 필요하지 않은 컬럼이라고 생각하여 삭제를 진행하였습니다.\n",
    "#tx 데이터프레임은 HOTEL_STATE값이 모두 TX이므로 HOTEL_STATE 컬럼 삭제\n",
    "\n",
    "tx.drop(columns=['USER_STATE', 'USER_TIMEZONE', 'HOTEL_TIMEZONE', 'HOTEL_STATE'], inplace=True)\n",
    "\n",
    "tx.head(10)"
   ]
  },
  {
   "cell_type": "markdown",
   "id": "328b6353",
   "metadata": {},
   "source": [
    "-> 어떤 호텔의 평점이 가장 좋았는지 상위 평가를 받은 호텔을 추출해보고자 합니다.  \n",
    "여행의 유형이 Business인 경우가 가장 많았으므로 Business일 경우를 가정해서 상위 점수 호텔을 추출해보았습니다. "
   ]
  },
  {
   "cell_type": "code",
   "execution_count": 18,
   "id": "ece9aef0",
   "metadata": {},
   "outputs": [
    {
     "name": "stdout",
     "output_type": "stream",
     "text": [
      "평가 개수 : 553\n",
      "평가 고객수 : 305\n",
      "호텔 수 : 308\n"
     ]
    }
   ],
   "source": [
    "#trip type이 business인 경우 저장\n",
    "tx_business=tx[tx['Trip Type']==3]\n",
    "\n",
    "#평가 개수\n",
    "print(\"평가 개수 :\", len(tx_business))\n",
    "\n",
    "#평가한 고객의 수\n",
    "print(\"평가 고객수 :\", tx_business.ID_USER.nunique())\n",
    "\n",
    "#평가받은 호텔 수\n",
    "print(\"호텔 수 :\", tx_business.ID_HOTEL.nunique())"
   ]
  },
  {
   "cell_type": "markdown",
   "id": "26b4ea42",
   "metadata": {},
   "source": [
    "305명의 고객이 308개의 호텔에 대해 553개의 평가를 남긴 것을 확인하였고 호텔 별 평균 평점을 확인해보았습니다."
   ]
  },
  {
   "cell_type": "code",
   "execution_count": 19,
   "id": "ef51b6b2",
   "metadata": {},
   "outputs": [
    {
     "data": {
      "text/plain": [
       "38"
      ]
     },
     "execution_count": 19,
     "metadata": {},
     "output_type": "execute_result"
    }
   ],
   "source": [
    "# 계산방법 : tx_business.groupby(\"ID_HOTEL\").mean()[\"Rating\"]\n",
    "# -> \"ID_HOTEL\"을 기준으로 groupby를 사용해서 그룹을 나눈 후, mean()함수를 사용해서 Rating 컬럼의 평균을 구해주었다.\n",
    "rating=pd.DataFrame(tx_business.groupby(\"ID_HOTEL\").mean()[\"Rating\"])\n",
    "\n",
    "#오름차순 정렬\n",
    "rating.sort_values(by=['Rating'], ascending=False, inplace=True)\n",
    "\n",
    "#확인\n",
    "len(rating[rating['Rating']==5])"
   ]
  },
  {
   "cell_type": "markdown",
   "id": "f2e1289c",
   "metadata": {},
   "source": [
    "308개의 호텔 중, 38개의 호텔이 평균 평점 5점을 받은 호텔이라는 것을 확인하였습니다. 텍사스주에서 비즈니스 목적으로 여행을 하실 때, 38개의 상위 평점 호텔을 고려해보시는 것이 좋을 것으로 판단됩니다."
   ]
  },
  {
   "cell_type": "markdown",
   "id": "d0a241f4",
   "metadata": {},
   "source": [
    "다음은 텍사스주의 비즈니스 목적 카테고리의 평균 평점 5점을 받은 38개의 호텔의 목록입니다."
   ]
  },
  {
   "cell_type": "code",
   "execution_count": 20,
   "id": "49d05c00",
   "metadata": {},
   "outputs": [
    {
     "data": {
      "text/plain": [
       "0      225034\n",
       "1       99450\n",
       "2      247108\n",
       "3      223058\n",
       "4      223045\n",
       "5     1465226\n",
       "6      217732\n",
       "7     1382444\n",
       "8     1235675\n",
       "9      109347\n",
       "10    1199983\n",
       "11     109231\n",
       "12     530458\n",
       "13    1493264\n",
       "14     107844\n",
       "15     107915\n",
       "16     107956\n",
       "17     107957\n",
       "18     577395\n",
       "19     108010\n",
       "20     108980\n",
       "21     676704\n",
       "22     676703\n",
       "23     108945\n",
       "24     223229\n",
       "25     483873\n",
       "26      98804\n",
       "27     223680\n",
       "28     225027\n",
       "29     224218\n",
       "30      98435\n",
       "31    1878688\n",
       "32      98629\n",
       "33    1845655\n",
       "34     223695\n",
       "35     225035\n",
       "36    1514287\n",
       "37     223620\n",
       "Name: ID_HOTEL, dtype: int64"
      ]
     },
     "execution_count": 20,
     "metadata": {},
     "output_type": "execute_result"
    }
   ],
   "source": [
    "rating[rating['Rating']==5].reset_index()['ID_HOTEL']"
   ]
  },
  {
   "cell_type": "markdown",
   "id": "704d0589",
   "metadata": {},
   "source": [
    "- 세부분석 2)  \n",
    "전체 주에서 가장 많은 평가를 받은 호텔은 어디일까요?"
   ]
  },
  {
   "cell_type": "code",
   "execution_count": 21,
   "id": "9a34400b",
   "metadata": {},
   "outputs": [
    {
     "data": {
      "text/html": [
       "<div>\n",
       "<style scoped>\n",
       "    .dataframe tbody tr th:only-of-type {\n",
       "        vertical-align: middle;\n",
       "    }\n",
       "\n",
       "    .dataframe tbody tr th {\n",
       "        vertical-align: top;\n",
       "    }\n",
       "\n",
       "    .dataframe thead th {\n",
       "        text-align: right;\n",
       "    }\n",
       "</style>\n",
       "<table border=\"1\" class=\"dataframe\">\n",
       "  <thead>\n",
       "    <tr style=\"text-align: right;\">\n",
       "      <th></th>\n",
       "      <th>count</th>\n",
       "    </tr>\n",
       "    <tr>\n",
       "      <th>ID_HOTEL</th>\n",
       "      <th></th>\n",
       "    </tr>\n",
       "  </thead>\n",
       "  <tbody>\n",
       "    <tr>\n",
       "      <th>100603</th>\n",
       "      <td>13</td>\n",
       "    </tr>\n",
       "    <tr>\n",
       "      <th>86320</th>\n",
       "      <td>12</td>\n",
       "    </tr>\n",
       "    <tr>\n",
       "      <th>98117</th>\n",
       "      <td>12</td>\n",
       "    </tr>\n",
       "    <tr>\n",
       "      <th>224241</th>\n",
       "      <td>12</td>\n",
       "    </tr>\n",
       "    <tr>\n",
       "      <th>98197</th>\n",
       "      <td>12</td>\n",
       "    </tr>\n",
       "  </tbody>\n",
       "</table>\n",
       "</div>"
      ],
      "text/plain": [
       "          count\n",
       "ID_HOTEL       \n",
       "100603       13\n",
       "86320        12\n",
       "98117        12\n",
       "224241       12\n",
       "98197        12"
      ]
     },
     "execution_count": 21,
     "metadata": {},
     "output_type": "execute_result"
    }
   ],
   "source": [
    "#계산방법 : data.groupby(\"ID_HOTEL\").count()['ID_USER']\n",
    "#-> ID_HOTEL 별로 group을 나눈 후 각 행개수를 count 해주었습니다.\n",
    "\n",
    "count=pd.DataFrame(data.groupby(\"ID_HOTEL\").count()['ID_USER'])\n",
    "\n",
    "\n",
    "#컬럼의 의미가 달라 컬럼명을 변경해주었습니다. (ID_USER->count)\n",
    "count.columns=['count']\n",
    "\n",
    "#print, 상위 5개 호텔\n",
    "count.sort_values(by='count', ascending=False).head(5)\n",
    "# sort_values(by='컬럼명') : 정렬\n",
    "# 옵션 : ascending=False -> 내림차순 정렬"
   ]
  },
  {
   "cell_type": "markdown",
   "id": "5315d0e4",
   "metadata": {},
   "source": [
    "가장 많은 평가를 받은 호텔은 \"ID_HOTEL\"=100603이 13회로 고객으로부터 가장 많은 평가를 받은 호텔이였습니다. 그럼 과연 이 호텔은 좋은 평가를 받았을까요?"
   ]
  },
  {
   "cell_type": "code",
   "execution_count": 22,
   "id": "8128d9a3",
   "metadata": {},
   "outputs": [
    {
     "data": {
      "text/html": [
       "<div>\n",
       "<style scoped>\n",
       "    .dataframe tbody tr th:only-of-type {\n",
       "        vertical-align: middle;\n",
       "    }\n",
       "\n",
       "    .dataframe tbody tr th {\n",
       "        vertical-align: top;\n",
       "    }\n",
       "\n",
       "    .dataframe thead th {\n",
       "        text-align: right;\n",
       "    }\n",
       "</style>\n",
       "<table border=\"1\" class=\"dataframe\">\n",
       "  <thead>\n",
       "    <tr style=\"text-align: right;\">\n",
       "      <th></th>\n",
       "      <th>ID_USER</th>\n",
       "      <th>USER_STATE</th>\n",
       "      <th>USER_TIMEZONE</th>\n",
       "      <th>ID_HOTEL</th>\n",
       "      <th>HOTEL_CITY</th>\n",
       "      <th>HOTEL_STATE</th>\n",
       "      <th>HOTEL_TIMEZONE</th>\n",
       "      <th>Trip Type</th>\n",
       "      <th>Rating</th>\n",
       "    </tr>\n",
       "  </thead>\n",
       "  <tbody>\n",
       "    <tr>\n",
       "      <th>135</th>\n",
       "      <td>2019</td>\n",
       "      <td>OH</td>\n",
       "      <td>Eastern</td>\n",
       "      <td>100603</td>\n",
       "      <td>Seattle</td>\n",
       "      <td>WA</td>\n",
       "      <td>Pacific</td>\n",
       "      <td>2</td>\n",
       "      <td>3</td>\n",
       "    </tr>\n",
       "    <tr>\n",
       "      <th>247</th>\n",
       "      <td>4122</td>\n",
       "      <td>MA</td>\n",
       "      <td>Eastern</td>\n",
       "      <td>100603</td>\n",
       "      <td>Seattle</td>\n",
       "      <td>WA</td>\n",
       "      <td>Pacific</td>\n",
       "      <td>3</td>\n",
       "      <td>3</td>\n",
       "    </tr>\n",
       "    <tr>\n",
       "      <th>803</th>\n",
       "      <td>11490</td>\n",
       "      <td>DC</td>\n",
       "      <td>Eastern</td>\n",
       "      <td>100603</td>\n",
       "      <td>Seattle</td>\n",
       "      <td>WA</td>\n",
       "      <td>Pacific</td>\n",
       "      <td>3</td>\n",
       "      <td>3</td>\n",
       "    </tr>\n",
       "    <tr>\n",
       "      <th>875</th>\n",
       "      <td>12462</td>\n",
       "      <td>IL</td>\n",
       "      <td>Central</td>\n",
       "      <td>100603</td>\n",
       "      <td>Seattle</td>\n",
       "      <td>WA</td>\n",
       "      <td>Pacific</td>\n",
       "      <td>3</td>\n",
       "      <td>2</td>\n",
       "    </tr>\n",
       "    <tr>\n",
       "      <th>1727</th>\n",
       "      <td>24202</td>\n",
       "      <td>VA</td>\n",
       "      <td>Eastern</td>\n",
       "      <td>100603</td>\n",
       "      <td>Seattle</td>\n",
       "      <td>WA</td>\n",
       "      <td>Pacific</td>\n",
       "      <td>3</td>\n",
       "      <td>4</td>\n",
       "    </tr>\n",
       "    <tr>\n",
       "      <th>2276</th>\n",
       "      <td>31742</td>\n",
       "      <td>TX</td>\n",
       "      <td>Central</td>\n",
       "      <td>100603</td>\n",
       "      <td>Seattle</td>\n",
       "      <td>WA</td>\n",
       "      <td>Pacific</td>\n",
       "      <td>3</td>\n",
       "      <td>4</td>\n",
       "    </tr>\n",
       "    <tr>\n",
       "      <th>2414</th>\n",
       "      <td>33899</td>\n",
       "      <td>IL</td>\n",
       "      <td>Central</td>\n",
       "      <td>100603</td>\n",
       "      <td>Seattle</td>\n",
       "      <td>WA</td>\n",
       "      <td>Pacific</td>\n",
       "      <td>3</td>\n",
       "      <td>3</td>\n",
       "    </tr>\n",
       "    <tr>\n",
       "      <th>2483</th>\n",
       "      <td>34915</td>\n",
       "      <td>AK</td>\n",
       "      <td>AK</td>\n",
       "      <td>100603</td>\n",
       "      <td>Seattle</td>\n",
       "      <td>WA</td>\n",
       "      <td>Pacific</td>\n",
       "      <td>2</td>\n",
       "      <td>4</td>\n",
       "    </tr>\n",
       "    <tr>\n",
       "      <th>2687</th>\n",
       "      <td>37181</td>\n",
       "      <td>VA</td>\n",
       "      <td>Eastern</td>\n",
       "      <td>100603</td>\n",
       "      <td>Seattle</td>\n",
       "      <td>WA</td>\n",
       "      <td>Pacific</td>\n",
       "      <td>2</td>\n",
       "      <td>4</td>\n",
       "    </tr>\n",
       "    <tr>\n",
       "      <th>2917</th>\n",
       "      <td>40423</td>\n",
       "      <td>MN</td>\n",
       "      <td>Central</td>\n",
       "      <td>100603</td>\n",
       "      <td>Seattle</td>\n",
       "      <td>WA</td>\n",
       "      <td>Pacific</td>\n",
       "      <td>3</td>\n",
       "      <td>2</td>\n",
       "    </tr>\n",
       "    <tr>\n",
       "      <th>3385</th>\n",
       "      <td>48008</td>\n",
       "      <td>FL</td>\n",
       "      <td>Eastern</td>\n",
       "      <td>100603</td>\n",
       "      <td>Seattle</td>\n",
       "      <td>WA</td>\n",
       "      <td>Pacific</td>\n",
       "      <td>2</td>\n",
       "      <td>5</td>\n",
       "    </tr>\n",
       "    <tr>\n",
       "      <th>3831</th>\n",
       "      <td>53189</td>\n",
       "      <td>TX</td>\n",
       "      <td>Central</td>\n",
       "      <td>100603</td>\n",
       "      <td>Seattle</td>\n",
       "      <td>WA</td>\n",
       "      <td>Pacific</td>\n",
       "      <td>3</td>\n",
       "      <td>5</td>\n",
       "    </tr>\n",
       "    <tr>\n",
       "      <th>4329</th>\n",
       "      <td>60966</td>\n",
       "      <td>DC</td>\n",
       "      <td>Eastern</td>\n",
       "      <td>100603</td>\n",
       "      <td>Seattle</td>\n",
       "      <td>WA</td>\n",
       "      <td>Pacific</td>\n",
       "      <td>4</td>\n",
       "      <td>3</td>\n",
       "    </tr>\n",
       "  </tbody>\n",
       "</table>\n",
       "</div>"
      ],
      "text/plain": [
       "      ID_USER USER_STATE USER_TIMEZONE  ID_HOTEL HOTEL_CITY HOTEL_STATE  \\\n",
       "135      2019         OH       Eastern    100603    Seattle          WA   \n",
       "247      4122         MA       Eastern    100603    Seattle          WA   \n",
       "803     11490         DC       Eastern    100603    Seattle          WA   \n",
       "875     12462         IL       Central    100603    Seattle          WA   \n",
       "1727    24202         VA       Eastern    100603    Seattle          WA   \n",
       "2276    31742         TX       Central    100603    Seattle          WA   \n",
       "2414    33899         IL       Central    100603    Seattle          WA   \n",
       "2483    34915         AK            AK    100603    Seattle          WA   \n",
       "2687    37181         VA       Eastern    100603    Seattle          WA   \n",
       "2917    40423         MN       Central    100603    Seattle          WA   \n",
       "3385    48008         FL       Eastern    100603    Seattle          WA   \n",
       "3831    53189         TX       Central    100603    Seattle          WA   \n",
       "4329    60966         DC       Eastern    100603    Seattle          WA   \n",
       "\n",
       "     HOTEL_TIMEZONE  Trip Type  Rating  \n",
       "135         Pacific          2       3  \n",
       "247         Pacific          3       3  \n",
       "803         Pacific          3       3  \n",
       "875         Pacific          3       2  \n",
       "1727        Pacific          3       4  \n",
       "2276        Pacific          3       4  \n",
       "2414        Pacific          3       3  \n",
       "2483        Pacific          2       4  \n",
       "2687        Pacific          2       4  \n",
       "2917        Pacific          3       2  \n",
       "3385        Pacific          2       5  \n",
       "3831        Pacific          3       5  \n",
       "4329        Pacific          4       3  "
      ]
     },
     "execution_count": 22,
     "metadata": {},
     "output_type": "execute_result"
    }
   ],
   "source": [
    "#'ID_HOTEL'이 100603인 호텔 데이터 조회\n",
    "best=data[data['ID_HOTEL']==100603]\n",
    "best"
   ]
  },
  {
   "cell_type": "markdown",
   "id": "7c810e0a",
   "metadata": {},
   "source": [
    "미국 WA(워싱턴주) 시애틀에 있는 이 호텔은 고객으로부터 가장 많은 평가를 받은 호텔이지만 Rating을 보면 좋은 평가를 받았는지는 한눈에 들어오지 않았습니다. Trip Type(여행 유형)에 따라서 그룹을 나눠 Rating 평균을 구해보았습니다"
   ]
  },
  {
   "cell_type": "code",
   "execution_count": 23,
   "id": "8f476d98",
   "metadata": {},
   "outputs": [
    {
     "data": {
      "text/plain": [
       "Trip Type\n",
       "2    4.00\n",
       "3    3.25\n",
       "4    3.00\n",
       "Name: Rating, dtype: float64"
      ]
     },
     "execution_count": 23,
     "metadata": {},
     "output_type": "execute_result"
    }
   ],
   "source": [
    "best.groupby(\"Trip Type\").mean()['Rating']"
   ]
  },
  {
   "cell_type": "markdown",
   "id": "97337ced",
   "metadata": {},
   "source": [
    "여행의 목적이 Couple인 고객들의 평균 평점은 4점으로 가장 높았고 Business인 고객들의 평균평점은 3.25, Solo trable인 경우에는 3점의 결과가 나왔습니다. 이 호텔은 Business 목적의 방문이 가장 많은만큼 business 목적으로 방문하는 고객의 니즈를 잘 충족시킬 수 있도록 호텔을 보완해야할 필요도 있어보입니다."
   ]
  },
  {
   "cell_type": "markdown",
   "id": "0a498a97",
   "metadata": {},
   "source": [
    "분석은 여기까지입니다:) 감사합니다"
   ]
  }
 ],
 "metadata": {
  "kernelspec": {
   "display_name": "Python 3 (ipykernel)",
   "language": "python",
   "name": "python3"
  },
  "language_info": {
   "codemirror_mode": {
    "name": "ipython",
    "version": 3
   },
   "file_extension": ".py",
   "mimetype": "text/x-python",
   "name": "python",
   "nbconvert_exporter": "python",
   "pygments_lexer": "ipython3",
   "version": "3.8.5"
  }
 },
 "nbformat": 4,
 "nbformat_minor": 5
}
