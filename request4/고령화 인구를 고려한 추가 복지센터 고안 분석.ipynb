{
 "cells": [
  {
   "cell_type": "markdown",
   "id": "bfe13e3a",
   "metadata": {},
   "source": [
    "## 💻 의뢰 : 고령화 인구를 고려한 추가 복지센터 고안 분석\n",
    "❕순서 \n",
    "1) 향후 10년간 고령화 비율(%) 변화 (50세 기준)  \n",
    "2) 향후 10년간 고령화 비율(%) 변화 (60세 기준)   \n",
    "3) 미래 복지센터 개수 (60세 기준)  "
   ]
  },
  {
   "cell_type": "code",
   "execution_count": 1,
   "id": "2e5a1a05",
   "metadata": {},
   "outputs": [],
   "source": [
    "#패키지 임포트\n",
    "import pandas as pd\n",
    "import numpy as np\n",
    "import seaborn as sns\n",
    "import matplotlib.pyplot as plt\n",
    "\n",
    "# 한글처리\n",
    "plt.rc('font', family='Malgun Gothic')\n",
    "# '-' 문자 처리\n",
    "plt.rc('axes', unicode_minus=False)"
   ]
  },
  {
   "cell_type": "markdown",
   "id": "3fc8b0be",
   "metadata": {},
   "source": [
    "### (1) 향후 10년간 고령화 비율(%) 변화 (50세 기준)"
   ]
  },
  {
   "cell_type": "code",
   "execution_count": 2,
   "id": "28d3dd6d",
   "metadata": {},
   "outputs": [],
   "source": [
    "#데이터 읽어오기\n",
    "pop5=pd.read_excel(\"50_전국_인구수.xlsx\")\n",
    "\n",
    "#행과 열 바꾸기\n",
    "pop5=pop5.T\n",
    "\n",
    "#첫번쨰 행 컬럼명으로 지정 후 첫번째 행 삭제\n",
    "pop5 = pop5.rename(columns=pop5.iloc[0])\n",
    "pop5 = pop5.drop(pop5.index[0])"
   ]
  },
  {
   "cell_type": "code",
   "execution_count": 3,
   "id": "847ef993",
   "metadata": {},
   "outputs": [
    {
     "data": {
      "text/html": [
       "<div>\n",
       "<style scoped>\n",
       "    .dataframe tbody tr th:only-of-type {\n",
       "        vertical-align: middle;\n",
       "    }\n",
       "\n",
       "    .dataframe tbody tr th {\n",
       "        vertical-align: top;\n",
       "    }\n",
       "\n",
       "    .dataframe thead th {\n",
       "        text-align: right;\n",
       "    }\n",
       "</style>\n",
       "<table border=\"1\" class=\"dataframe\">\n",
       "  <thead>\n",
       "    <tr style=\"text-align: right;\">\n",
       "      <th></th>\n",
       "      <th>전국</th>\n",
       "    </tr>\n",
       "  </thead>\n",
       "  <tbody>\n",
       "    <tr>\n",
       "      <th>현재_고령인구비율</th>\n",
       "      <td>42.215576</td>\n",
       "    </tr>\n",
       "    <tr>\n",
       "      <th>5년후_고령인구비율</th>\n",
       "      <td>50.237833</td>\n",
       "    </tr>\n",
       "    <tr>\n",
       "      <th>10년후_고령인구비율</th>\n",
       "      <td>58.021497</td>\n",
       "    </tr>\n",
       "  </tbody>\n",
       "</table>\n",
       "</div>"
      ],
      "text/plain": [
       "                    전국\n",
       "현재_고령인구비율    42.215576\n",
       "5년후_고령인구비율   50.237833\n",
       "10년후_고령인구비율  58.021497"
      ]
     },
     "execution_count": 3,
     "metadata": {},
     "output_type": "execute_result"
    }
   ],
   "source": [
    "#보고싶은 행만 저장\n",
    "pop5=pop5.iloc[4:,]\n",
    "pop5"
   ]
  },
  {
   "cell_type": "markdown",
   "id": "3efe477c",
   "metadata": {},
   "source": [
    "- 시각화"
   ]
  },
  {
   "cell_type": "code",
   "execution_count": 4,
   "id": "6ea9be4a",
   "metadata": {},
   "outputs": [
    {
     "data": {
      "image/png": "[encoded data removed]",
      "text/plain": [
       "<Figure size 1080x360 with 1 Axes>"
      ]
     },
     "metadata": {},
     "output_type": "display_data"
    }
   ],
   "source": [
    "fig = plt.figure(figsize=(15,5)) ## 캔버스 생성\n",
    "fig.set_facecolor('white') ## 캔버스 색상 설정\n",
    "ax = fig.add_subplot() ## 그림 뼈대(프레임) 생성\n",
    "\n",
    "year=['현재', '5년후', '10년후']\n",
    "#ax.plot(x축, y축, marker='o', linewidth=선굵기 조정가능)\n",
    "ax.plot(year,pop5['전국'], marker='o', linewidth=3) \n",
    " \n",
    "plt.title('향후 고령인구비율 변화(%) (50세 기준)',fontsize=13) ## 타이틀 설정\n",
    "plt.show()"
   ]
  },
  {
   "cell_type": "markdown",
   "id": "c69f8672",
   "metadata": {},
   "source": [
    "### (2) 향후 10년간 고령화 비율(%) 변화 (60세 기준)"
   ]
  },
  {
   "cell_type": "code",
   "execution_count": 5,
   "id": "901f6e56",
   "metadata": {},
   "outputs": [],
   "source": [
    "#데이터 읽어오기\n",
    "pop6=pd.read_excel(\"60_전국_인구수.xlsx\")\n",
    "\n",
    "#행과 열 바꾸기\n",
    "pop6=pop6.T\n",
    "\n",
    "#첫번쨰 행 컬럼명으로 지정 후 첫번째 행 삭제\n",
    "pop6 = pop6.rename(columns=pop6.iloc[0])\n",
    "pop6 = pop6.drop(pop6.index[0])"
   ]
  },
  {
   "cell_type": "code",
   "execution_count": 6,
   "id": "7525d084",
   "metadata": {},
   "outputs": [
    {
     "data": {
      "text/html": [
       "<div>\n",
       "<style scoped>\n",
       "    .dataframe tbody tr th:only-of-type {\n",
       "        vertical-align: middle;\n",
       "    }\n",
       "\n",
       "    .dataframe tbody tr th {\n",
       "        vertical-align: top;\n",
       "    }\n",
       "\n",
       "    .dataframe thead th {\n",
       "        text-align: right;\n",
       "    }\n",
       "</style>\n",
       "<table border=\"1\" class=\"dataframe\">\n",
       "  <thead>\n",
       "    <tr style=\"text-align: right;\">\n",
       "      <th></th>\n",
       "      <th>전국</th>\n",
       "    </tr>\n",
       "  </thead>\n",
       "  <tbody>\n",
       "    <tr>\n",
       "      <th>현재_고령인구비율</th>\n",
       "      <td>25.477386</td>\n",
       "    </tr>\n",
       "    <tr>\n",
       "      <th>5년후_고령인구비율</th>\n",
       "      <td>33.462876</td>\n",
       "    </tr>\n",
       "    <tr>\n",
       "      <th>10년후_고령인구비율</th>\n",
       "      <td>42.215576</td>\n",
       "    </tr>\n",
       "  </tbody>\n",
       "</table>\n",
       "</div>"
      ],
      "text/plain": [
       "                    전국\n",
       "현재_고령인구비율    25.477386\n",
       "5년후_고령인구비율   33.462876\n",
       "10년후_고령인구비율  42.215576"
      ]
     },
     "execution_count": 6,
     "metadata": {},
     "output_type": "execute_result"
    }
   ],
   "source": [
    "#보고싶은 행만 저장\n",
    "pop6=pop6.iloc[4:,]\n",
    "pop6"
   ]
  },
  {
   "cell_type": "markdown",
   "id": "dbc21d0d",
   "metadata": {},
   "source": [
    "- 시각화"
   ]
  },
  {
   "cell_type": "code",
   "execution_count": 7,
   "id": "24fe13b7",
   "metadata": {},
   "outputs": [
    {
     "data": {
      "image/png": "[encoded data removed]",
      "text/plain": [
       "<Figure size 1080x360 with 1 Axes>"
      ]
     },
     "metadata": {},
     "output_type": "display_data"
    }
   ],
   "source": [
    "fig = plt.figure(figsize=(15,5)) ## 캔버스 생성\n",
    "fig.set_facecolor('white') ## 캔버스 색상 설정\n",
    "ax = fig.add_subplot() ## 그림 뼈대(프레임) 생성\n",
    "\n",
    "year=['현재', '5년후', '10년후']\n",
    "#ax.plot(x축, y축, marker='o', linewidth=선굵기 조정가능)\n",
    "ax.plot(year,pop6['전국'], marker='o', linewidth=3) \n",
    " \n",
    "plt.title('향후 고령인구비율 변화(%) (60세 기준)',fontsize=13) ## 타이틀 설정\n",
    "plt.show()"
   ]
  },
  {
   "cell_type": "markdown",
   "id": "0e62b681",
   "metadata": {},
   "source": [
    "### (3) 미래 복지센터 개수 (60세 기준)  \n",
    "-> 50세~60세는 아직 생산활동을 하는 인구라고 생각해서 60세를 기준으로 그래프를 시각화하였습니다!  \n",
    "\n",
    "-> 계산방법은 \"추가복지센터_분석\" 폴더의 \"추가복지센터_계산방법.xlsx\"을 참고해주세요!"
   ]
  },
  {
   "cell_type": "code",
   "execution_count": 8,
   "id": "c03bb5ad",
   "metadata": {},
   "outputs": [],
   "source": [
    "#데이터 읽어오기\n",
    "center=pd.read_excel(\"추가복지센터_숫자만.xlsx\")\n",
    "\n",
    "#행과열 바꾸기\n",
    "center=center.T\n",
    "\n",
    "#첫번쨰 행 컬럼명으로 지정 후 첫번째 행 삭제\n",
    "center = center.rename(columns=center.iloc[0])\n",
    "center = center.drop(center.index[0])"
   ]
  },
  {
   "cell_type": "code",
   "execution_count": 9,
   "id": "078c402c",
   "metadata": {},
   "outputs": [
    {
     "data": {
      "text/html": [
       "<div>\n",
       "<style scoped>\n",
       "    .dataframe tbody tr th:only-of-type {\n",
       "        vertical-align: middle;\n",
       "    }\n",
       "\n",
       "    .dataframe tbody tr th {\n",
       "        vertical-align: top;\n",
       "    }\n",
       "\n",
       "    .dataframe thead th {\n",
       "        text-align: right;\n",
       "    }\n",
       "</style>\n",
       "<table border=\"1\" class=\"dataframe\">\n",
       "  <thead>\n",
       "    <tr style=\"text-align: right;\">\n",
       "      <th></th>\n",
       "      <th>요양시설개수</th>\n",
       "    </tr>\n",
       "  </thead>\n",
       "  <tbody>\n",
       "    <tr>\n",
       "      <th>현재</th>\n",
       "      <td>4057.0</td>\n",
       "    </tr>\n",
       "    <tr>\n",
       "      <th>5년후</th>\n",
       "      <td>5287.0</td>\n",
       "    </tr>\n",
       "    <tr>\n",
       "      <th>10년후</th>\n",
       "      <td>6670.0</td>\n",
       "    </tr>\n",
       "  </tbody>\n",
       "</table>\n",
       "</div>"
      ],
      "text/plain": [
       "      요양시설개수\n",
       "현재    4057.0\n",
       "5년후   5287.0\n",
       "10년후  6670.0"
      ]
     },
     "execution_count": 9,
     "metadata": {},
     "output_type": "execute_result"
    }
   ],
   "source": [
    "#보고싶은 컬럼만 저장\n",
    "center=center[[\"요양시설개수\"]]\n",
    "center"
   ]
  },
  {
   "cell_type": "markdown",
   "id": "68ada6fc",
   "metadata": {},
   "source": [
    "- 시각화"
   ]
  },
  {
   "cell_type": "code",
   "execution_count": 10,
   "id": "9fdfc04c",
   "metadata": {},
   "outputs": [
    {
     "data": {
      "image/png": "[encoded data removed]",
      "text/plain": [
       "<Figure size 1080x360 with 1 Axes>"
      ]
     },
     "metadata": {},
     "output_type": "display_data"
    }
   ],
   "source": [
    "fig = plt.figure(figsize=(15,5)) ## 캔버스 생성\n",
    "fig.set_facecolor('white') ## 캔버스 색상 설정\n",
    "ax = fig.add_subplot() ## 그림 뼈대(프레임) 생성\n",
    "\n",
    "year=['현재', '5년후', '10년후']\n",
    "#ax.plot(x축, y축, marker='o', linewidth=선굵기 조정가능)\n",
    "ax.plot(year,center['요양시설개수'], marker='o', linewidth=3) \n",
    " \n",
    "plt.title('미래 복지센터 개수',fontsize=13) ## 타이틀 설정\n",
    "plt.show()"
   ]
  }
 ],
 "metadata": {
  "kernelspec": {
   "display_name": "Python 3 (ipykernel)",
   "language": "python",
   "name": "python3"
  },
  "language_info": {
   "codemirror_mode": {
    "name": "ipython",
    "version": 3
   },
   "file_extension": ".py",
   "mimetype": "text/x-python",
   "name": "python",
   "nbconvert_exporter": "python",
   "pygments_lexer": "ipython3",
   "version": "3.8.5"
  }
 },
 "nbformat": 4,
 "nbformat_minor": 5
}
