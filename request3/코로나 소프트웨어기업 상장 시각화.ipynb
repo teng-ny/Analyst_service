{
 "cells": [
  {
   "cell_type": "markdown",
   "id": "f9c12e3f",
   "metadata": {},
   "source": [
    "## 💻 시각화\n",
    "- bar graph : 2018,2019년 대비 2020, 2021년 \"소프트웨어 업종\" 상장된 법인 수\n",
    "- line graph : 2018, 2019년 대비 2020, 2021년 코스피지수"
   ]
  },
  {
   "cell_type": "markdown",
   "id": "6769d659",
   "metadata": {},
   "source": [
    "### (1) 데이터 전처리-코스피지수"
   ]
  },
  {
   "cell_type": "code",
   "execution_count": 1,
   "id": "6fc26167",
   "metadata": {},
   "outputs": [],
   "source": [
    "import pandas as pd\n",
    "import numpy as np\n",
    "\n",
    "#코스피지수 파일\n",
    "kospi=pd.read_csv(\"result_year.csv\")[['날짜', '종가']]\n",
    "#컬럼명 변경\n",
    "kospi.columns=['날짜', '코스피']"
   ]
  },
  {
   "cell_type": "markdown",
   "id": "dea170a7",
   "metadata": {},
   "source": [
    "-> 코스피지수는 종가를 주로 시각화 / \"날짜\", \"종가\" 컬럼만 가져옴"
   ]
  },
  {
   "cell_type": "code",
   "execution_count": 2,
   "id": "60317cd4",
   "metadata": {},
   "outputs": [
    {
     "name": "stdout",
     "output_type": "stream",
     "text": [
      "<class 'pandas.core.frame.DataFrame'>\n",
      "RangeIndex: 6 entries, 0 to 5\n",
      "Data columns (total 2 columns):\n",
      " #   Column  Non-Null Count  Dtype  \n",
      "---  ------  --------------  -----  \n",
      " 0   날짜      6 non-null      object \n",
      " 1   코스피     6 non-null      float64\n",
      "dtypes: float64(1), object(1)\n",
      "memory usage: 224.0+ bytes\n"
     ]
    }
   ],
   "source": [
    "#데이터 타입 확인\n",
    "kospi.info()"
   ]
  },
  {
   "cell_type": "markdown",
   "id": "c077066e",
   "metadata": {},
   "source": [
    "-> 날짜가 object 타입이면 년도만 뽑아오기 어렵기 때문에 datetime으로 데이터타입을 변경해줘야함"
   ]
  },
  {
   "cell_type": "code",
   "execution_count": 3,
   "id": "bd1741a6",
   "metadata": {},
   "outputs": [],
   "source": [
    "#날짜컬럼을 타입을 object->datetime으로 변경\n",
    "import datetime\n",
    "kospi['날짜']=pd.to_datetime(kospi['날짜'])\n",
    "\n",
    "#날짜에서 년도만 가져옴\n",
    "kospi['날짜'] = kospi['날짜'].dt.strftime(\"%Y\")"
   ]
  },
  {
   "cell_type": "code",
   "execution_count": 4,
   "id": "42fcb873",
   "metadata": {},
   "outputs": [
    {
     "data": {
      "text/html": [
       "<div>\n",
       "<style scoped>\n",
       "    .dataframe tbody tr th:only-of-type {\n",
       "        vertical-align: middle;\n",
       "    }\n",
       "\n",
       "    .dataframe tbody tr th {\n",
       "        vertical-align: top;\n",
       "    }\n",
       "\n",
       "    .dataframe thead th {\n",
       "        text-align: right;\n",
       "    }\n",
       "</style>\n",
       "<table border=\"1\" class=\"dataframe\">\n",
       "  <thead>\n",
       "    <tr style=\"text-align: right;\">\n",
       "      <th></th>\n",
       "      <th>날짜</th>\n",
       "      <th>코스피</th>\n",
       "    </tr>\n",
       "  </thead>\n",
       "  <tbody>\n",
       "    <tr>\n",
       "      <th>0</th>\n",
       "      <td>2017</td>\n",
       "      <td>2467.49</td>\n",
       "    </tr>\n",
       "    <tr>\n",
       "      <th>1</th>\n",
       "      <td>2018</td>\n",
       "      <td>2041.04</td>\n",
       "    </tr>\n",
       "    <tr>\n",
       "      <th>2</th>\n",
       "      <td>2019</td>\n",
       "      <td>2197.67</td>\n",
       "    </tr>\n",
       "    <tr>\n",
       "      <th>3</th>\n",
       "      <td>2020</td>\n",
       "      <td>2873.47</td>\n",
       "    </tr>\n",
       "    <tr>\n",
       "      <th>4</th>\n",
       "      <td>2021</td>\n",
       "      <td>2977.65</td>\n",
       "    </tr>\n",
       "    <tr>\n",
       "      <th>5</th>\n",
       "      <td>2022</td>\n",
       "      <td>2236.40</td>\n",
       "    </tr>\n",
       "  </tbody>\n",
       "</table>\n",
       "</div>"
      ],
      "text/plain": [
       "     날짜      코스피\n",
       "0  2017  2467.49\n",
       "1  2018  2041.04\n",
       "2  2019  2197.67\n",
       "3  2020  2873.47\n",
       "4  2021  2977.65\n",
       "5  2022  2236.40"
      ]
     },
     "execution_count": 4,
     "metadata": {},
     "output_type": "execute_result"
    }
   ],
   "source": [
    "kospi"
   ]
  },
  {
   "cell_type": "markdown",
   "id": "abec571a",
   "metadata": {},
   "source": [
    "-> 년도만 남긴 것을 확인"
   ]
  },
  {
   "cell_type": "markdown",
   "id": "29611ae2",
   "metadata": {},
   "source": [
    "- 데이터프레임명.iloc[행 범위 지정, 열 범위 지정]\n",
    "\n",
    "-> 2017년이 0행이 되는것이구요 1:5으로 지정해주었다면 1행~4행(5-1=4)까지 2018-2021년이 출력이 됩니다. 1:6으로 지정해주었다면 1행-5행(6-1=5)까지 2018년-2022년이 출력이 됩니다. \n",
    "\n",
    "-> \":\"는 전부다 가져오라는 것을 의미합니다"
   ]
  },
  {
   "cell_type": "code",
   "execution_count": 5,
   "id": "3ebb32cc",
   "metadata": {},
   "outputs": [],
   "source": [
    "# 분석을 위해 18~21년도만 데이터프레임에 남김\n",
    "kospi=kospi.iloc[1:5, :]"
   ]
  },
  {
   "cell_type": "markdown",
   "id": "a38202ba",
   "metadata": {},
   "source": [
    "### (2) 데이터 전처리-업종별 상장일"
   ]
  },
  {
   "cell_type": "code",
   "execution_count": 6,
   "id": "df655028",
   "metadata": {},
   "outputs": [
    {
     "data": {
      "text/html": [
       "<div>\n",
       "<style scoped>\n",
       "    .dataframe tbody tr th:only-of-type {\n",
       "        vertical-align: middle;\n",
       "    }\n",
       "\n",
       "    .dataframe tbody tr th {\n",
       "        vertical-align: top;\n",
       "    }\n",
       "\n",
       "    .dataframe thead th {\n",
       "        text-align: right;\n",
       "    }\n",
       "</style>\n",
       "<table border=\"1\" class=\"dataframe\">\n",
       "  <thead>\n",
       "    <tr style=\"text-align: right;\">\n",
       "      <th></th>\n",
       "      <th>업종</th>\n",
       "      <th>상장일</th>\n",
       "    </tr>\n",
       "  </thead>\n",
       "  <tbody>\n",
       "    <tr>\n",
       "      <th>0</th>\n",
       "      <td>마그네틱  및 광학 매체 제조업</td>\n",
       "      <td>2022-12-29</td>\n",
       "    </tr>\n",
       "    <tr>\n",
       "      <th>1</th>\n",
       "      <td>의료용  기기 제조업</td>\n",
       "      <td>2022-12-28</td>\n",
       "    </tr>\n",
       "    <tr>\n",
       "      <th>2</th>\n",
       "      <td>전자부품  제조업</td>\n",
       "      <td>2022-12-28</td>\n",
       "    </tr>\n",
       "    <tr>\n",
       "      <th>3</th>\n",
       "      <td>금융  지원 서비스업</td>\n",
       "      <td>2022-12-27</td>\n",
       "    </tr>\n",
       "    <tr>\n",
       "      <th>4</th>\n",
       "      <td>1차  철강 제조업</td>\n",
       "      <td>2022-12-23</td>\n",
       "    </tr>\n",
       "  </tbody>\n",
       "</table>\n",
       "</div>"
      ],
      "text/plain": [
       "                  업종         상장일\n",
       "0  마그네틱  및 광학 매체 제조업  2022-12-29\n",
       "1        의료용  기기 제조업  2022-12-28\n",
       "2          전자부품  제조업  2022-12-28\n",
       "3        금융  지원 서비스업  2022-12-27\n",
       "4         1차  철강 제조업  2022-12-23"
      ]
     },
     "execution_count": 6,
     "metadata": {},
     "output_type": "execute_result"
    }
   ],
   "source": [
    "#업종별 상장일 데이터\n",
    "fund=pd.read_csv(\"fund1.csv\")\n",
    "fund.head(5)"
   ]
  },
  {
   "cell_type": "markdown",
   "id": "1ac5c0c7",
   "metadata": {},
   "source": [
    "-> 시각화를 위해 업종 중 \"소프트웨어  개발 및 공급업\" 컬럼만 남기겠습니다!"
   ]
  },
  {
   "cell_type": "code",
   "execution_count": 7,
   "id": "dd69d6b7",
   "metadata": {},
   "outputs": [],
   "source": [
    "fund=fund[fund['업종']=='소프트웨어  개발 및 공급업']"
   ]
  },
  {
   "cell_type": "markdown",
   "id": "dc4d4114",
   "metadata": {},
   "source": [
    "-> 데이터프레임명[데이터프레임명['컬럼명']=='조건입력']을 해주면 원하는 행만 확인해볼 수 있음"
   ]
  },
  {
   "cell_type": "code",
   "execution_count": 8,
   "id": "2beddfe5",
   "metadata": {},
   "outputs": [
    {
     "data": {
      "text/html": [
       "<div>\n",
       "<style scoped>\n",
       "    .dataframe tbody tr th:only-of-type {\n",
       "        vertical-align: middle;\n",
       "    }\n",
       "\n",
       "    .dataframe tbody tr th {\n",
       "        vertical-align: top;\n",
       "    }\n",
       "\n",
       "    .dataframe thead th {\n",
       "        text-align: right;\n",
       "    }\n",
       "</style>\n",
       "<table border=\"1\" class=\"dataframe\">\n",
       "  <thead>\n",
       "    <tr style=\"text-align: right;\">\n",
       "      <th></th>\n",
       "      <th>업종</th>\n",
       "      <th>상장일</th>\n",
       "    </tr>\n",
       "  </thead>\n",
       "  <tbody>\n",
       "    <tr>\n",
       "      <th>25</th>\n",
       "      <td>소프트웨어  개발 및 공급업</td>\n",
       "      <td>2022-11-18</td>\n",
       "    </tr>\n",
       "    <tr>\n",
       "      <th>26</th>\n",
       "      <td>소프트웨어  개발 및 공급업</td>\n",
       "      <td>2022-11-17</td>\n",
       "    </tr>\n",
       "    <tr>\n",
       "      <th>39</th>\n",
       "      <td>소프트웨어  개발 및 공급업</td>\n",
       "      <td>2022-10-27</td>\n",
       "    </tr>\n",
       "    <tr>\n",
       "      <th>44</th>\n",
       "      <td>소프트웨어  개발 및 공급업</td>\n",
       "      <td>2022-10-20</td>\n",
       "    </tr>\n",
       "  </tbody>\n",
       "</table>\n",
       "</div>"
      ],
      "text/plain": [
       "                 업종         상장일\n",
       "25  소프트웨어  개발 및 공급업  2022-11-18\n",
       "26  소프트웨어  개발 및 공급업  2022-11-17\n",
       "39  소프트웨어  개발 및 공급업  2022-10-27\n",
       "44  소프트웨어  개발 및 공급업  2022-10-20"
      ]
     },
     "execution_count": 8,
     "metadata": {},
     "output_type": "execute_result"
    }
   ],
   "source": [
    "fund.head(4)"
   ]
  },
  {
   "cell_type": "code",
   "execution_count": 9,
   "id": "24387b65",
   "metadata": {},
   "outputs": [
    {
     "name": "stdout",
     "output_type": "stream",
     "text": [
      "<class 'pandas.core.frame.DataFrame'>\n",
      "Int64Index: 63 entries, 25 to 600\n",
      "Data columns (total 2 columns):\n",
      " #   Column  Non-Null Count  Dtype \n",
      "---  ------  --------------  ----- \n",
      " 0   업종      63 non-null     object\n",
      " 1   상장일     63 non-null     object\n",
      "dtypes: object(2)\n",
      "memory usage: 1.5+ KB\n"
     ]
    }
   ],
   "source": [
    "fund.info()"
   ]
  },
  {
   "cell_type": "markdown",
   "id": "cd9f9a73",
   "metadata": {},
   "source": [
    "-> 상장일 데이터 타입이 object이므로 datetime으로 변경 후 년도만 가져옴"
   ]
  },
  {
   "cell_type": "code",
   "execution_count": 10,
   "id": "2a8a0488",
   "metadata": {},
   "outputs": [],
   "source": [
    "fund['상장일']=pd.to_datetime(fund['상장일'])\n",
    "\n",
    "#날짜에서 년도만 가져옴\n",
    "fund['상장일'] = fund['상장일'].dt.strftime(\"%Y\")"
   ]
  },
  {
   "cell_type": "code",
   "execution_count": 11,
   "id": "bca210b5",
   "metadata": {},
   "outputs": [
    {
     "data": {
      "text/html": [
       "<div>\n",
       "<style scoped>\n",
       "    .dataframe tbody tr th:only-of-type {\n",
       "        vertical-align: middle;\n",
       "    }\n",
       "\n",
       "    .dataframe tbody tr th {\n",
       "        vertical-align: top;\n",
       "    }\n",
       "\n",
       "    .dataframe thead th {\n",
       "        text-align: right;\n",
       "    }\n",
       "</style>\n",
       "<table border=\"1\" class=\"dataframe\">\n",
       "  <thead>\n",
       "    <tr style=\"text-align: right;\">\n",
       "      <th></th>\n",
       "      <th>업종</th>\n",
       "      <th>상장일</th>\n",
       "    </tr>\n",
       "  </thead>\n",
       "  <tbody>\n",
       "    <tr>\n",
       "      <th>25</th>\n",
       "      <td>소프트웨어  개발 및 공급업</td>\n",
       "      <td>2022</td>\n",
       "    </tr>\n",
       "    <tr>\n",
       "      <th>26</th>\n",
       "      <td>소프트웨어  개발 및 공급업</td>\n",
       "      <td>2022</td>\n",
       "    </tr>\n",
       "    <tr>\n",
       "      <th>39</th>\n",
       "      <td>소프트웨어  개발 및 공급업</td>\n",
       "      <td>2022</td>\n",
       "    </tr>\n",
       "    <tr>\n",
       "      <th>44</th>\n",
       "      <td>소프트웨어  개발 및 공급업</td>\n",
       "      <td>2022</td>\n",
       "    </tr>\n",
       "    <tr>\n",
       "      <th>53</th>\n",
       "      <td>소프트웨어  개발 및 공급업</td>\n",
       "      <td>2022</td>\n",
       "    </tr>\n",
       "  </tbody>\n",
       "</table>\n",
       "</div>"
      ],
      "text/plain": [
       "                 업종   상장일\n",
       "25  소프트웨어  개발 및 공급업  2022\n",
       "26  소프트웨어  개발 및 공급업  2022\n",
       "39  소프트웨어  개발 및 공급업  2022\n",
       "44  소프트웨어  개발 및 공급업  2022\n",
       "53  소프트웨어  개발 및 공급업  2022"
      ]
     },
     "execution_count": 11,
     "metadata": {},
     "output_type": "execute_result"
    }
   ],
   "source": [
    "fund.head(5)"
   ]
  },
  {
   "cell_type": "markdown",
   "id": "07e70c6a",
   "metadata": {},
   "source": [
    "-> 년도만 남긴 것을 확인"
   ]
  },
  {
   "cell_type": "markdown",
   "id": "036201fb",
   "metadata": {},
   "source": [
    "### 데이터프레임을 년도별 상장된 소프트웨어 기업 개수로 변경"
   ]
  },
  {
   "cell_type": "markdown",
   "id": "07e12d89",
   "metadata": {},
   "source": [
    "- value_counts()함수 사용"
   ]
  },
  {
   "cell_type": "code",
   "execution_count": 12,
   "id": "f5f07361",
   "metadata": {},
   "outputs": [],
   "source": [
    "fund=pd.DataFrame(fund['상장일'].value_counts()).sort_index()\n",
    "\n",
    "#컬럼명 변경\n",
    "fund.columns=['상장개수']"
   ]
  },
  {
   "cell_type": "markdown",
   "id": "b8adb690",
   "metadata": {},
   "source": [
    "-> value_counts()함수를 사용하면 년도별로 몇개의 행이 있는지 count해줍니다.\n",
    "\n",
    "-> sort_index()함수를 사용해서 년도를 오름차순으로 정렬해주었습니다."
   ]
  },
  {
   "cell_type": "code",
   "execution_count": 13,
   "id": "02d720d3",
   "metadata": {},
   "outputs": [],
   "source": [
    "# 2022년은 제외하고 분석 진행\n",
    "# 4번째 행까지만 저장\n",
    "fund=fund.iloc[:4, :]"
   ]
  },
  {
   "cell_type": "code",
   "execution_count": 14,
   "id": "6cf71ed0",
   "metadata": {},
   "outputs": [
    {
     "data": {
      "text/html": [
       "<div>\n",
       "<style scoped>\n",
       "    .dataframe tbody tr th:only-of-type {\n",
       "        vertical-align: middle;\n",
       "    }\n",
       "\n",
       "    .dataframe tbody tr th {\n",
       "        vertical-align: top;\n",
       "    }\n",
       "\n",
       "    .dataframe thead th {\n",
       "        text-align: right;\n",
       "    }\n",
       "</style>\n",
       "<table border=\"1\" class=\"dataframe\">\n",
       "  <thead>\n",
       "    <tr style=\"text-align: right;\">\n",
       "      <th></th>\n",
       "      <th>상장개수</th>\n",
       "    </tr>\n",
       "  </thead>\n",
       "  <tbody>\n",
       "    <tr>\n",
       "      <th>2018</th>\n",
       "      <td>6</td>\n",
       "    </tr>\n",
       "    <tr>\n",
       "      <th>2019</th>\n",
       "      <td>13</td>\n",
       "    </tr>\n",
       "    <tr>\n",
       "      <th>2020</th>\n",
       "      <td>7</td>\n",
       "    </tr>\n",
       "    <tr>\n",
       "      <th>2021</th>\n",
       "      <td>26</td>\n",
       "    </tr>\n",
       "  </tbody>\n",
       "</table>\n",
       "</div>"
      ],
      "text/plain": [
       "      상장개수\n",
       "2018     6\n",
       "2019    13\n",
       "2020     7\n",
       "2021    26"
      ]
     },
     "execution_count": 14,
     "metadata": {},
     "output_type": "execute_result"
    }
   ],
   "source": [
    "fund"
   ]
  },
  {
   "cell_type": "markdown",
   "id": "e7aca9a1",
   "metadata": {},
   "source": [
    "### (3) 시각화-kospi&fund 데이터프레임"
   ]
  },
  {
   "cell_type": "code",
   "execution_count": 15,
   "id": "d4026afa",
   "metadata": {},
   "outputs": [],
   "source": [
    "import matplotlib.pyplot as plt\n",
    "import seaborn as sns\n",
    "\n",
    "#경고무시\n",
    "import warnings\n",
    "warnings.filterwarnings('ignore')\n",
    "# 한글처리\n",
    "plt.rc('font', family='Malgun Gothic')\n",
    "# '-' 문자 처리\n",
    "plt.rc('axes', unicode_minus=False)"
   ]
  },
  {
   "cell_type": "code",
   "execution_count": 16,
   "id": "bdf99e64",
   "metadata": {},
   "outputs": [],
   "source": [
    "#시각화를 위해 리스트 형식으로 변경\n",
    "year=list(kospi.날짜)\n",
    "kospi_=list(kospi.코스피)\n",
    "count=list(fund.상장개수)"
   ]
  },
  {
   "cell_type": "code",
   "execution_count": 17,
   "id": "0c2c255a",
   "metadata": {},
   "outputs": [
    {
     "data": {
      "image/png": "[encoded data removed]",
      "text/plain": [
       "<Figure size 576x576 with 2 Axes>"
      ]
     },
     "metadata": {},
     "output_type": "display_data"
    }
   ],
   "source": [
    "fig = plt.figure(figsize=(8,8)) ## Figure 생성 \n",
    "fig.set_facecolor('white') ## Figure 배경색 지정\n",
    "ax1 = fig.add_subplot() ## axes 생성\n",
    "\n",
    "\n",
    "#X축 지정\n",
    "xtick_label = list(range(len(year))) ## x축 눈금 라벨이 표시될 x좌표\n",
    "ax1.set_xticks(xtick_label) ## x축 눈금 \n",
    "ax1.set_xticklabels(year) ## x축 눈금 라벨\n",
    "\n",
    "\n",
    "#bar차트(년도별 상장된 소프트웨어기업 개수)\n",
    "colors = sns.color_palette('summer', len(year)) ## 바 차트 색상\n",
    "ax1.bar(xtick_label, count, color=colors) ## 바차트 출력\n",
    "\n",
    "\n",
    "#line차트(년도별 코스피지수)\n",
    "color = 'blue'\n",
    "ax2 = ax1.twinx() ## 새로운 axis 생성\n",
    "ax2.plot(xtick_label, kospi_, color=color, linestyle='--', marker='o') ## 선 그래프 \n",
    "ax2.tick_params(axis='y', labelcolor=color) ## 눈금 라벨 색상 지정\n",
    " \n",
    "\n",
    "#그래프 title 지정    \n",
    "plt.title('소프트웨어 상장기업 및 코스피지수', fontsize=20)\n",
    "\n",
    "\n",
    "#show\n",
    "plt.show()"
   ]
  }
 ],
 "metadata": {
  "kernelspec": {
   "display_name": "Python 3 (ipykernel)",
   "language": "python",
   "name": "python3"
  },
  "language_info": {
   "codemirror_mode": {
    "name": "ipython",
    "version": 3
   },
   "file_extension": ".py",
   "mimetype": "text/x-python",
   "name": "python",
   "nbconvert_exporter": "python",
   "pygments_lexer": "ipython3",
   "version": "3.8.5"
  }
 },
 "nbformat": 4,
 "nbformat_minor": 5
}
