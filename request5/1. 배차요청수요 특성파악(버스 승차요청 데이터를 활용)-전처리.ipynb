{
 "cells": [
  {
   "cell_type": "markdown",
   "id": "2673c9a9",
   "metadata": {},
   "source": [
    "## 💻 분석 데이터 : 버스 승차요청 이력 데이터  \n",
    "-> 사용자의 요청에 따라 운행 경로를 바꿔 운행하는 버스 서비스"
   ]
  },
  {
   "cell_type": "markdown",
   "id": "c9eef1de",
   "metadata": {},
   "source": [
    "### (1) 전처리 진행"
   ]
  },
  {
   "cell_type": "markdown",
   "id": "eb9b4c02",
   "metadata": {},
   "source": [
    "### - 데이터 불러오기"
   ]
  },
  {
   "cell_type": "code",
   "execution_count": 34,
   "id": "6515b0bb",
   "metadata": {},
   "outputs": [],
   "source": [
    "import pandas as pd\n",
    "data=pd.read_csv(\"new_dataset.csv\", low_memory=False)"
   ]
  },
  {
   "cell_type": "code",
   "execution_count": 47,
   "id": "248a123d",
   "metadata": {},
   "outputs": [],
   "source": [
    "df=data"
   ]
  },
  {
   "cell_type": "code",
   "execution_count": 48,
   "id": "14371fd9",
   "metadata": {},
   "outputs": [],
   "source": [
    "#전체 열 보이도록 수정\n",
    "pd.set_option('display.max_columns', None)"
   ]
  },
  {
   "cell_type": "code",
   "execution_count": 55,
   "id": "d8dcc43c",
   "metadata": {},
   "outputs": [],
   "source": [
    "#df.info()\n",
    "#column개수=41, row개수 : 2,064,519"
   ]
  },
  {
   "cell_type": "markdown",
   "id": "f3ee8884",
   "metadata": {},
   "source": [
    "### - 컬럼별 uniuqe값 확인"
   ]
  },
  {
   "cell_type": "code",
   "execution_count": 50,
   "id": "e1ba3c1f",
   "metadata": {},
   "outputs": [
    {
     "data": {
      "text/plain": [
       "('2021-07-19 05:31:52', '2022-12-17 22:59:47')"
      ]
     },
     "execution_count": 50,
     "metadata": {},
     "output_type": "execute_result"
    }
   ],
   "source": [
    "df.호출유형.unique() #I\n",
    "df.지역.unique() #계양, 검단, 송도\n",
    "df.배차차량.unique() #nan, '계양1호차 ', '검단1호차 ', '송도1호차 ', '송도6호차 ', '송도2호차 ', '계양2호차 ', '검단2호차 ', '검단4호차 ', '검단3호차 ', '송도7호차 ', '송도8호차 ', '송도5호차 ', '송도3호차 ', '송도4호차 '\n",
    "df.상태.unique() #'시뮬레이션취소', '탑승취소', '배차불가', '하차완료', '시스템취소', '배차불가 (중복된 이용신청)','배차불가 (운행가능차량없음)'\n",
    "df.요청시간.min(), df.요청시간.max() #'2021-07-19 05:31:52', '2022-12-17 22:59:47'"
   ]
  },
  {
   "cell_type": "markdown",
   "id": "9352cb9b",
   "metadata": {},
   "source": [
    "### - 컬럼 삭제"
   ]
  },
  {
   "cell_type": "code",
   "execution_count": 51,
   "id": "1d3f55a6",
   "metadata": {},
   "outputs": [],
   "source": [
    "#df=df.drop(columns=['']) --삭제할 컬럼 지정\n",
    "\n",
    "#분석에 필요하지 않은 컬럼 삭제\n",
    "df=df.drop(columns=['순번', '위도', '경도', '승무사원명'])\n",
    "df=df.drop(columns=['취소시간', '승차지시뮬레이션시간', '승차지최초도착예정시간', '승차지도착예정시간', '하차지시뮬레이션시간', '하차지최초도착예정시간', '하차지도착예정시간', '배차확정시간', '요청시간차이', '속도'])\n",
    "\n",
    "#결제정보/평가정보 컬럼은 분석에 필요하지않으므로 삭제\n",
    "df=df.drop(columns=['배차요청위치', '평가점수_빠른이동', '평가점수_안전운전', '평가점수_버스청결도','평가메모', '평가점수_총점'])\n",
    "\n",
    "#요금 컬럼은 분석에 필요하지않으므로 삭제\n",
    "df=df.drop(columns='요금')\n",
    "\n",
    "#호출유형은 I 단일값이므로 삭제\n",
    "df=df.drop(columns=['호출유형'])\n",
    "\n",
    "#승차시간, 도착시간을 기준으로 분석진행\n",
    "df=df.drop(columns=['승차지도착시간', '하차지도착시간'])\n",
    "\n",
    "#요청식별id가 존재하므로 탑승권id, 사용자id 삭제\n",
    "#분석에서 의미가 없다고 판단되는 구독제_여부, 이용신청id삭제\n",
    "df=df.drop(columns=['탑승권아이디', '사용자id', '구독제 여부', '구독제_여부', '이용신청id'])\n",
    "\n",
    "#배차차량과 배차차량번호가 일치하므로 배차차량 기준으로 분석진행\n",
    "df=df.drop(columns='배차차량번호')"
   ]
  },
  {
   "cell_type": "markdown",
   "id": "6a381431",
   "metadata": {},
   "source": [
    "### - 데이터 파악"
   ]
  },
  {
   "cell_type": "code",
   "execution_count": 52,
   "id": "e6a2e42d",
   "metadata": {},
   "outputs": [
    {
     "data": {
      "text/plain": [
       "array(['송도6호차 ', '송도2호차 ', '계양1호차 ', '검단2호차 ', '검단4호차 ', '송도7호차 ',\n",
       "       '송도8호차 ', '송도5호차 ', '검단1호차 ', '송도4호차 ', '송도3호차 ', '송도1호차 ',\n",
       "       '검단3호차 ', '계양2호차 '], dtype=object)"
      ]
     },
     "execution_count": 52,
     "metadata": {},
     "output_type": "execute_result"
    }
   ],
   "source": [
    "#상태컬럼이 하차완료일때 배차차량컬럼의 unique값 확인\n",
    "df[df['상태']=='하차완료']['배차차량'].unique()"
   ]
  },
  {
   "cell_type": "code",
   "execution_count": 53,
   "id": "4ca59457",
   "metadata": {},
   "outputs": [
    {
     "data": {
      "text/plain": [
       "0"
      ]
     },
     "execution_count": 53,
     "metadata": {},
     "output_type": "execute_result"
    }
   ],
   "source": [
    "#상태컬럼이 하차완료일때 배차차량컬럼의 null값 확인\n",
    "df[df['상태']=='하차완료']['배차차량'].isna().sum()"
   ]
  },
  {
   "cell_type": "markdown",
   "id": "e8ace077",
   "metadata": {},
   "source": [
    "-> 상태컬럼이 '하차완료'인 경우에는 배차차량이 null값 없이 다 지정되어 있음을 확인할 수 있음."
   ]
  },
  {
   "cell_type": "markdown",
   "id": "b0374027",
   "metadata": {},
   "source": [
    "### - 분석을 위한 컬럼 생성"
   ]
  },
  {
   "cell_type": "markdown",
   "id": "d11ef70b",
   "metadata": {},
   "source": [
    "- groupby요청식별id 요청시간.min()인 것을 최초요청시간 컬럼에 추가"
   ]
  },
  {
   "cell_type": "code",
   "execution_count": 54,
   "id": "394b1195",
   "metadata": {},
   "outputs": [
    {
     "data": {
      "text/html": [
       "<div>\n",
       "<style scoped>\n",
       "    .dataframe tbody tr th:only-of-type {\n",
       "        vertical-align: middle;\n",
       "    }\n",
       "\n",
       "    .dataframe tbody tr th {\n",
       "        vertical-align: top;\n",
       "    }\n",
       "\n",
       "    .dataframe thead th {\n",
       "        text-align: right;\n",
       "    }\n",
       "</style>\n",
       "<table border=\"1\" class=\"dataframe\">\n",
       "  <thead>\n",
       "    <tr style=\"text-align: right;\">\n",
       "      <th></th>\n",
       "      <th>요청식별id</th>\n",
       "      <th>최초요청시간</th>\n",
       "    </tr>\n",
       "  </thead>\n",
       "  <tbody>\n",
       "    <tr>\n",
       "      <th>0</th>\n",
       "      <td>0</td>\n",
       "      <td>2022-05-03 14:47:56</td>\n",
       "    </tr>\n",
       "    <tr>\n",
       "      <th>1</th>\n",
       "      <td>1</td>\n",
       "      <td>2022-05-03 14:48:44</td>\n",
       "    </tr>\n",
       "    <tr>\n",
       "      <th>2</th>\n",
       "      <td>2</td>\n",
       "      <td>2022-08-07 23:54:51</td>\n",
       "    </tr>\n",
       "    <tr>\n",
       "      <th>3</th>\n",
       "      <td>3</td>\n",
       "      <td>2022-10-21 21:40:34</td>\n",
       "    </tr>\n",
       "    <tr>\n",
       "      <th>4</th>\n",
       "      <td>4</td>\n",
       "      <td>2022-10-22 08:21:29</td>\n",
       "    </tr>\n",
       "  </tbody>\n",
       "</table>\n",
       "</div>"
      ],
      "text/plain": [
       "   요청식별id               최초요청시간\n",
       "0       0  2022-05-03 14:47:56\n",
       "1       1  2022-05-03 14:48:44\n",
       "2       2  2022-08-07 23:54:51\n",
       "3       3  2022-10-21 21:40:34\n",
       "4       4  2022-10-22 08:21:29"
      ]
     },
     "execution_count": 54,
     "metadata": {},
     "output_type": "execute_result"
    }
   ],
   "source": [
    "#연산을 위한 컬럼만 저장\n",
    "연산=df[['요청시간', '요청식별id']]\n",
    "\n",
    "#groupby 함수를 사용해 요청식별id별 최초 요청시간 계산\n",
    "최초요청시간=연산.groupby('요청식별id').min().reset_index()\n",
    "최초요청시간.columns=['요청식별id', '최초요청시간']\n",
    "최초요청시간.head(5)"
   ]
  },
  {
   "cell_type": "code",
   "execution_count": 57,
   "id": "a3ff4788",
   "metadata": {},
   "outputs": [],
   "source": [
    "#원래 데이터프레임과 요청식별id를 기준으로 병합\n",
    "df2=pd.merge(df, 최초요청시간)"
   ]
  },
  {
   "cell_type": "code",
   "execution_count": 60,
   "id": "2fcf49f1",
   "metadata": {},
   "outputs": [
    {
     "data": {
      "text/html": [
       "<div>\n",
       "<style scoped>\n",
       "    .dataframe tbody tr th:only-of-type {\n",
       "        vertical-align: middle;\n",
       "    }\n",
       "\n",
       "    .dataframe tbody tr th {\n",
       "        vertical-align: top;\n",
       "    }\n",
       "\n",
       "    .dataframe thead th {\n",
       "        text-align: right;\n",
       "    }\n",
       "</style>\n",
       "<table border=\"1\" class=\"dataframe\">\n",
       "  <thead>\n",
       "    <tr style=\"text-align: right;\">\n",
       "      <th></th>\n",
       "      <th>지역</th>\n",
       "      <th>배차차량</th>\n",
       "      <th>상태</th>\n",
       "      <th>요청시간</th>\n",
       "      <th>승차정류장명</th>\n",
       "      <th>승차정류장방면</th>\n",
       "      <th>하차정류장명</th>\n",
       "      <th>하차정류장방면</th>\n",
       "      <th>승차시간</th>\n",
       "      <th>하차시간</th>\n",
       "      <th>탑승총계</th>\n",
       "      <th>어른</th>\n",
       "      <th>청소년</th>\n",
       "      <th>어린이</th>\n",
       "      <th>거리</th>\n",
       "      <th>회원유형</th>\n",
       "      <th>승차정류장id</th>\n",
       "      <th>하차정류장id</th>\n",
       "      <th>요청식별id</th>\n",
       "      <th>누적요청시간</th>\n",
       "      <th>누적요청횟수</th>\n",
       "      <th>실수요여부</th>\n",
       "      <th>최초요청시간</th>\n",
       "    </tr>\n",
       "  </thead>\n",
       "  <tbody>\n",
       "    <tr>\n",
       "      <th>0</th>\n",
       "      <td>계양</td>\n",
       "      <td>NaN</td>\n",
       "      <td>시뮬레이션취소</td>\n",
       "      <td>2022-05-03 14:47:56</td>\n",
       "      <td>계양역(계양중학교 방면)</td>\n",
       "      <td>귤현역방면</td>\n",
       "      <td>목상동솔밭.이주단지입구</td>\n",
       "      <td>목상동마을입구 방면</td>\n",
       "      <td>NaN</td>\n",
       "      <td>NaN</td>\n",
       "      <td>1</td>\n",
       "      <td>1</td>\n",
       "      <td>0</td>\n",
       "      <td>0</td>\n",
       "      <td>0.0</td>\n",
       "      <td>어른</td>\n",
       "      <td>41659.0</td>\n",
       "      <td>41316.0</td>\n",
       "      <td>0</td>\n",
       "      <td>0.0</td>\n",
       "      <td>1</td>\n",
       "      <td>1</td>\n",
       "      <td>2022-05-03 14:47:56</td>\n",
       "    </tr>\n",
       "  </tbody>\n",
       "</table>\n",
       "</div>"
      ],
      "text/plain": [
       "   지역 배차차량       상태                 요청시간          승차정류장명 승차정류장방면  \\\n",
       "0  계양  NaN  시뮬레이션취소  2022-05-03 14:47:56  계양역(계양중학교 방면)    귤현역방면   \n",
       "\n",
       "          하차정류장명     하차정류장방면 승차시간 하차시간  탑승총계  어른  청소년  어린이   거리 회원유형  승차정류장id  \\\n",
       "0  목상동솔밭.이주단지입구   목상동마을입구 방면  NaN  NaN     1   1    0    0  0.0   어른  41659.0   \n",
       "\n",
       "   하차정류장id  요청식별id  누적요청시간  누적요청횟수  실수요여부               최초요청시간  \n",
       "0  41316.0       0     0.0       1      1  2022-05-03 14:47:56  "
      ]
     },
     "execution_count": 60,
     "metadata": {},
     "output_type": "execute_result"
    }
   ],
   "source": [
    "#최초요청시간 컬럼이 추가된 것을 확인\n",
    "df2.head(1)"
   ]
  },
  {
   "cell_type": "markdown",
   "id": "0e3b66c9",
   "metadata": {},
   "source": [
    "### - 전처리 파일 저장"
   ]
  },
  {
   "cell_type": "code",
   "execution_count": 61,
   "id": "f4803d5f",
   "metadata": {},
   "outputs": [],
   "source": [
    "df2.to_csv(\"new_전처리.csv\", index=False)"
   ]
  }
 ],
 "metadata": {
  "kernelspec": {
   "display_name": "Python 3 (ipykernel)",
   "language": "python",
   "name": "python3"
  },
  "language_info": {
   "codemirror_mode": {
    "name": "ipython",
    "version": 3
   },
   "file_extension": ".py",
   "mimetype": "text/x-python",
   "name": "python",
   "nbconvert_exporter": "python",
   "pygments_lexer": "ipython3",
   "version": "3.8.5"
  }
 },
 "nbformat": 4,
 "nbformat_minor": 5
}
